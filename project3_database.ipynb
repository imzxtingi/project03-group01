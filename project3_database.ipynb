{
 "cells": [
  {
   "cell_type": "code",
   "execution_count": 102,
   "id": "7ef78f38",
   "metadata": {},
   "outputs": [],
   "source": [
    "import pandas as pd\n",
    "import sqlite3\n",
    "import shutil\n",
    "from pathlib import Path"
   ]
  },
  {
   "cell_type": "markdown",
   "id": "27712dcd",
   "metadata": {},
   "source": [
    "# Data Cleaning"
   ]
  },
  {
   "cell_type": "code",
   "execution_count": 103,
   "id": "696d8998",
   "metadata": {},
   "outputs": [
    {
     "name": "stderr",
     "output_type": "stream",
     "text": [
      "C:\\Users\\ourfa\\AppData\\Local\\Temp\\ipykernel_21952\\3488827372.py:2: DtypeWarning: Columns (1) have mixed types. Specify dtype option on import or set low_memory=False.\n",
      "  df_2019 = pd.read_csv(file)\n"
     ]
    }
   ],
   "source": [
    "file = Path('Resources/vehicle-fuel-type-count-by-zip-code-2019.csv')\n",
    "df_2019 = pd.read_csv(file)"
   ]
  },
  {
   "cell_type": "code",
   "execution_count": 104,
   "id": "bfd34741",
   "metadata": {},
   "outputs": [
    {
     "data": {
      "text/html": [
       "<div>\n",
       "<style scoped>\n",
       "    .dataframe tbody tr th:only-of-type {\n",
       "        vertical-align: middle;\n",
       "    }\n",
       "\n",
       "    .dataframe tbody tr th {\n",
       "        vertical-align: top;\n",
       "    }\n",
       "\n",
       "    .dataframe thead th {\n",
       "        text-align: right;\n",
       "    }\n",
       "</style>\n",
       "<table border=\"1\" class=\"dataframe\">\n",
       "  <thead>\n",
       "    <tr style=\"text-align: right;\">\n",
       "      <th></th>\n",
       "      <th>Date</th>\n",
       "      <th>Zip Code</th>\n",
       "      <th>Model Year</th>\n",
       "      <th>Fuel</th>\n",
       "      <th>Make</th>\n",
       "      <th>Duty</th>\n",
       "      <th>Vehicles</th>\n",
       "    </tr>\n",
       "  </thead>\n",
       "  <tbody>\n",
       "    <tr>\n",
       "      <th>0</th>\n",
       "      <td>10/1/2018</td>\n",
       "      <td>90000</td>\n",
       "      <td>2006</td>\n",
       "      <td>Gasoline</td>\n",
       "      <td>OTHER/UNK</td>\n",
       "      <td>Light</td>\n",
       "      <td>1</td>\n",
       "    </tr>\n",
       "    <tr>\n",
       "      <th>1</th>\n",
       "      <td>10/1/2018</td>\n",
       "      <td>90000</td>\n",
       "      <td>2014</td>\n",
       "      <td>Gasoline</td>\n",
       "      <td>OTHER/UNK</td>\n",
       "      <td>Light</td>\n",
       "      <td>1</td>\n",
       "    </tr>\n",
       "    <tr>\n",
       "      <th>2</th>\n",
       "      <td>10/1/2018</td>\n",
       "      <td>90000</td>\n",
       "      <td>2016</td>\n",
       "      <td>Gasoline</td>\n",
       "      <td>OTHER/UNK</td>\n",
       "      <td>Light</td>\n",
       "      <td>1</td>\n",
       "    </tr>\n",
       "    <tr>\n",
       "      <th>3</th>\n",
       "      <td>10/1/2018</td>\n",
       "      <td>90000</td>\n",
       "      <td>2017</td>\n",
       "      <td>Gasoline</td>\n",
       "      <td>OTHER/UNK</td>\n",
       "      <td>Light</td>\n",
       "      <td>1</td>\n",
       "    </tr>\n",
       "    <tr>\n",
       "      <th>4</th>\n",
       "      <td>10/1/2018</td>\n",
       "      <td>90000</td>\n",
       "      <td>&lt;2006</td>\n",
       "      <td>Diesel and Diesel Hybrid</td>\n",
       "      <td>OTHER/UNK</td>\n",
       "      <td>Heavy</td>\n",
       "      <td>55</td>\n",
       "    </tr>\n",
       "  </tbody>\n",
       "</table>\n",
       "</div>"
      ],
      "text/plain": [
       "        Date Zip Code Model Year                      Fuel       Make   Duty  \\\n",
       "0  10/1/2018    90000       2006                  Gasoline  OTHER/UNK  Light   \n",
       "1  10/1/2018    90000       2014                  Gasoline  OTHER/UNK  Light   \n",
       "2  10/1/2018    90000       2016                  Gasoline  OTHER/UNK  Light   \n",
       "3  10/1/2018    90000       2017                  Gasoline  OTHER/UNK  Light   \n",
       "4  10/1/2018    90000      <2006  Diesel and Diesel Hybrid  OTHER/UNK  Heavy   \n",
       "\n",
       "   Vehicles  \n",
       "0         1  \n",
       "1         1  \n",
       "2         1  \n",
       "3         1  \n",
       "4        55  "
      ]
     },
     "execution_count": 104,
     "metadata": {},
     "output_type": "execute_result"
    }
   ],
   "source": [
    "df_2019.head()"
   ]
  },
  {
   "cell_type": "code",
   "execution_count": 105,
   "id": "704a0b17",
   "metadata": {},
   "outputs": [
    {
     "data": {
      "text/html": [
       "<div>\n",
       "<style scoped>\n",
       "    .dataframe tbody tr th:only-of-type {\n",
       "        vertical-align: middle;\n",
       "    }\n",
       "\n",
       "    .dataframe tbody tr th {\n",
       "        vertical-align: top;\n",
       "    }\n",
       "\n",
       "    .dataframe thead th {\n",
       "        text-align: right;\n",
       "    }\n",
       "</style>\n",
       "<table border=\"1\" class=\"dataframe\">\n",
       "  <thead>\n",
       "    <tr style=\"text-align: right;\">\n",
       "      <th></th>\n",
       "      <th>Date</th>\n",
       "      <th>Zip Code</th>\n",
       "      <th>Model Year</th>\n",
       "      <th>Fuel</th>\n",
       "      <th>Make</th>\n",
       "      <th>Duty</th>\n",
       "      <th>Vehicles</th>\n",
       "    </tr>\n",
       "  </thead>\n",
       "  <tbody>\n",
       "    <tr>\n",
       "      <th>586228</th>\n",
       "      <td>10/1/2018</td>\n",
       "      <td>Other</td>\n",
       "      <td>&lt;2006</td>\n",
       "      <td>Hybrid Gasoline</td>\n",
       "      <td>TOYOTA</td>\n",
       "      <td>Light</td>\n",
       "      <td>54</td>\n",
       "    </tr>\n",
       "    <tr>\n",
       "      <th>586229</th>\n",
       "      <td>10/1/2018</td>\n",
       "      <td>Other</td>\n",
       "      <td>&lt;2006</td>\n",
       "      <td>Natural Gas</td>\n",
       "      <td>OTHER/UNK</td>\n",
       "      <td>Heavy</td>\n",
       "      <td>4</td>\n",
       "    </tr>\n",
       "    <tr>\n",
       "      <th>586230</th>\n",
       "      <td>10/1/2018</td>\n",
       "      <td>Other</td>\n",
       "      <td>&lt;2006</td>\n",
       "      <td>Natural Gas</td>\n",
       "      <td>OTHER/UNK</td>\n",
       "      <td>Light</td>\n",
       "      <td>6</td>\n",
       "    </tr>\n",
       "    <tr>\n",
       "      <th>586231</th>\n",
       "      <td>10/1/2018</td>\n",
       "      <td>Other</td>\n",
       "      <td>&lt;2006</td>\n",
       "      <td>Other</td>\n",
       "      <td>OTHER/UNK</td>\n",
       "      <td>Heavy</td>\n",
       "      <td>1</td>\n",
       "    </tr>\n",
       "    <tr>\n",
       "      <th>586232</th>\n",
       "      <td>10/1/2018</td>\n",
       "      <td>Other</td>\n",
       "      <td>&lt;2006</td>\n",
       "      <td>Other</td>\n",
       "      <td>OTHER/UNK</td>\n",
       "      <td>Light</td>\n",
       "      <td>8</td>\n",
       "    </tr>\n",
       "  </tbody>\n",
       "</table>\n",
       "</div>"
      ],
      "text/plain": [
       "             Date Zip Code Model Year             Fuel       Make   Duty  \\\n",
       "586228  10/1/2018    Other      <2006  Hybrid Gasoline     TOYOTA  Light   \n",
       "586229  10/1/2018    Other      <2006      Natural Gas  OTHER/UNK  Heavy   \n",
       "586230  10/1/2018    Other      <2006      Natural Gas  OTHER/UNK  Light   \n",
       "586231  10/1/2018    Other      <2006            Other  OTHER/UNK  Heavy   \n",
       "586232  10/1/2018    Other      <2006            Other  OTHER/UNK  Light   \n",
       "\n",
       "        Vehicles  \n",
       "586228        54  \n",
       "586229         4  \n",
       "586230         6  \n",
       "586231         1  \n",
       "586232         8  "
      ]
     },
     "execution_count": 105,
     "metadata": {},
     "output_type": "execute_result"
    }
   ],
   "source": [
    "df_2019.tail()"
   ]
  },
  {
   "cell_type": "code",
   "execution_count": 106,
   "id": "bebd2516",
   "metadata": {},
   "outputs": [
    {
     "data": {
      "text/plain": [
       "Date          object\n",
       "Zip Code      object\n",
       "Model Year    object\n",
       "Fuel          object\n",
       "Make          object\n",
       "Duty          object\n",
       "Vehicles       int64\n",
       "dtype: object"
      ]
     },
     "execution_count": 106,
     "metadata": {},
     "output_type": "execute_result"
    }
   ],
   "source": [
    "df_2019.dtypes"
   ]
  },
  {
   "cell_type": "code",
   "execution_count": 107,
   "id": "d67d610e",
   "metadata": {},
   "outputs": [
    {
     "data": {
      "text/html": [
       "<div>\n",
       "<style scoped>\n",
       "    .dataframe tbody tr th:only-of-type {\n",
       "        vertical-align: middle;\n",
       "    }\n",
       "\n",
       "    .dataframe tbody tr th {\n",
       "        vertical-align: top;\n",
       "    }\n",
       "\n",
       "    .dataframe thead th {\n",
       "        text-align: right;\n",
       "    }\n",
       "</style>\n",
       "<table border=\"1\" class=\"dataframe\">\n",
       "  <thead>\n",
       "    <tr style=\"text-align: right;\">\n",
       "      <th></th>\n",
       "      <th>Date</th>\n",
       "      <th>Zip Code</th>\n",
       "      <th>Model Year</th>\n",
       "      <th>Fuel</th>\n",
       "      <th>Make</th>\n",
       "      <th>Duty</th>\n",
       "      <th>Vehicles</th>\n",
       "    </tr>\n",
       "  </thead>\n",
       "  <tbody>\n",
       "    <tr>\n",
       "      <th>0</th>\n",
       "      <td>2019</td>\n",
       "      <td>90000</td>\n",
       "      <td>2006</td>\n",
       "      <td>Gasoline</td>\n",
       "      <td>OTHER/UNK</td>\n",
       "      <td>Light</td>\n",
       "      <td>1</td>\n",
       "    </tr>\n",
       "    <tr>\n",
       "      <th>1</th>\n",
       "      <td>2019</td>\n",
       "      <td>90000</td>\n",
       "      <td>2014</td>\n",
       "      <td>Gasoline</td>\n",
       "      <td>OTHER/UNK</td>\n",
       "      <td>Light</td>\n",
       "      <td>1</td>\n",
       "    </tr>\n",
       "    <tr>\n",
       "      <th>2</th>\n",
       "      <td>2019</td>\n",
       "      <td>90000</td>\n",
       "      <td>2016</td>\n",
       "      <td>Gasoline</td>\n",
       "      <td>OTHER/UNK</td>\n",
       "      <td>Light</td>\n",
       "      <td>1</td>\n",
       "    </tr>\n",
       "    <tr>\n",
       "      <th>3</th>\n",
       "      <td>2019</td>\n",
       "      <td>90000</td>\n",
       "      <td>2017</td>\n",
       "      <td>Gasoline</td>\n",
       "      <td>OTHER/UNK</td>\n",
       "      <td>Light</td>\n",
       "      <td>1</td>\n",
       "    </tr>\n",
       "    <tr>\n",
       "      <th>4</th>\n",
       "      <td>2019</td>\n",
       "      <td>90000</td>\n",
       "      <td>&lt;2006</td>\n",
       "      <td>Diesel and Diesel Hybrid</td>\n",
       "      <td>OTHER/UNK</td>\n",
       "      <td>Heavy</td>\n",
       "      <td>55</td>\n",
       "    </tr>\n",
       "  </tbody>\n",
       "</table>\n",
       "</div>"
      ],
      "text/plain": [
       "   Date Zip Code Model Year                      Fuel       Make   Duty  \\\n",
       "0  2019    90000       2006                  Gasoline  OTHER/UNK  Light   \n",
       "1  2019    90000       2014                  Gasoline  OTHER/UNK  Light   \n",
       "2  2019    90000       2016                  Gasoline  OTHER/UNK  Light   \n",
       "3  2019    90000       2017                  Gasoline  OTHER/UNK  Light   \n",
       "4  2019    90000      <2006  Diesel and Diesel Hybrid  OTHER/UNK  Heavy   \n",
       "\n",
       "   Vehicles  \n",
       "0         1  \n",
       "1         1  \n",
       "2         1  \n",
       "3         1  \n",
       "4        55  "
      ]
     },
     "execution_count": 107,
     "metadata": {},
     "output_type": "execute_result"
    }
   ],
   "source": [
    "df_2019['Date'] = 2019\n",
    "df_2019.head()"
   ]
  },
  {
   "cell_type": "code",
   "execution_count": 108,
   "id": "29edb1f0",
   "metadata": {},
   "outputs": [
    {
     "data": {
      "text/html": [
       "<div>\n",
       "<style scoped>\n",
       "    .dataframe tbody tr th:only-of-type {\n",
       "        vertical-align: middle;\n",
       "    }\n",
       "\n",
       "    .dataframe tbody tr th {\n",
       "        vertical-align: top;\n",
       "    }\n",
       "\n",
       "    .dataframe thead th {\n",
       "        text-align: right;\n",
       "    }\n",
       "</style>\n",
       "<table border=\"1\" class=\"dataframe\">\n",
       "  <thead>\n",
       "    <tr style=\"text-align: right;\">\n",
       "      <th></th>\n",
       "      <th>Year</th>\n",
       "      <th>Zip Code</th>\n",
       "      <th>Model Year</th>\n",
       "      <th>Fuel</th>\n",
       "      <th>Make</th>\n",
       "      <th>Duty</th>\n",
       "      <th>Vehicles</th>\n",
       "    </tr>\n",
       "  </thead>\n",
       "  <tbody>\n",
       "    <tr>\n",
       "      <th>0</th>\n",
       "      <td>2019</td>\n",
       "      <td>90000</td>\n",
       "      <td>2006</td>\n",
       "      <td>Gasoline</td>\n",
       "      <td>OTHER/UNK</td>\n",
       "      <td>Light</td>\n",
       "      <td>1</td>\n",
       "    </tr>\n",
       "    <tr>\n",
       "      <th>1</th>\n",
       "      <td>2019</td>\n",
       "      <td>90000</td>\n",
       "      <td>2014</td>\n",
       "      <td>Gasoline</td>\n",
       "      <td>OTHER/UNK</td>\n",
       "      <td>Light</td>\n",
       "      <td>1</td>\n",
       "    </tr>\n",
       "    <tr>\n",
       "      <th>2</th>\n",
       "      <td>2019</td>\n",
       "      <td>90000</td>\n",
       "      <td>2016</td>\n",
       "      <td>Gasoline</td>\n",
       "      <td>OTHER/UNK</td>\n",
       "      <td>Light</td>\n",
       "      <td>1</td>\n",
       "    </tr>\n",
       "    <tr>\n",
       "      <th>3</th>\n",
       "      <td>2019</td>\n",
       "      <td>90000</td>\n",
       "      <td>2017</td>\n",
       "      <td>Gasoline</td>\n",
       "      <td>OTHER/UNK</td>\n",
       "      <td>Light</td>\n",
       "      <td>1</td>\n",
       "    </tr>\n",
       "    <tr>\n",
       "      <th>4</th>\n",
       "      <td>2019</td>\n",
       "      <td>90000</td>\n",
       "      <td>&lt;2006</td>\n",
       "      <td>Diesel and Diesel Hybrid</td>\n",
       "      <td>OTHER/UNK</td>\n",
       "      <td>Heavy</td>\n",
       "      <td>55</td>\n",
       "    </tr>\n",
       "  </tbody>\n",
       "</table>\n",
       "</div>"
      ],
      "text/plain": [
       "   Year Zip Code Model Year                      Fuel       Make   Duty  \\\n",
       "0  2019    90000       2006                  Gasoline  OTHER/UNK  Light   \n",
       "1  2019    90000       2014                  Gasoline  OTHER/UNK  Light   \n",
       "2  2019    90000       2016                  Gasoline  OTHER/UNK  Light   \n",
       "3  2019    90000       2017                  Gasoline  OTHER/UNK  Light   \n",
       "4  2019    90000      <2006  Diesel and Diesel Hybrid  OTHER/UNK  Heavy   \n",
       "\n",
       "   Vehicles  \n",
       "0         1  \n",
       "1         1  \n",
       "2         1  \n",
       "3         1  \n",
       "4        55  "
      ]
     },
     "execution_count": 108,
     "metadata": {},
     "output_type": "execute_result"
    }
   ],
   "source": [
    "df_2019.rename(columns={'Date':'Year'}, inplace=True)\n",
    "df_2019.head()"
   ]
  },
  {
   "cell_type": "code",
   "execution_count": 109,
   "id": "a8566f82",
   "metadata": {},
   "outputs": [
    {
     "data": {
      "text/plain": [
       "array([90000, 90001, 90002, ..., '99999', 'OOS', 'Other'], dtype=object)"
      ]
     },
     "execution_count": 109,
     "metadata": {},
     "output_type": "execute_result"
    }
   ],
   "source": [
    "df_2019['Zip Code'].unique()"
   ]
  },
  {
   "cell_type": "code",
   "execution_count": 110,
   "id": "d5636e5b",
   "metadata": {},
   "outputs": [
    {
     "data": {
      "text/plain": [
       "array(['2006', '2014', '2016', '2017', '<2006', '2007', '2008', '2009',\n",
       "       '2010', '2011', '2012', '2013', '2015', '2018', '2019'],\n",
       "      dtype=object)"
      ]
     },
     "execution_count": 110,
     "metadata": {},
     "output_type": "execute_result"
    }
   ],
   "source": [
    "df_2019['Model Year'].unique()"
   ]
  },
  {
   "cell_type": "code",
   "execution_count": 111,
   "id": "81d42869",
   "metadata": {},
   "outputs": [
    {
     "data": {
      "text/plain": [
       "array(['Gasoline', 'Diesel and Diesel Hybrid', 'Battery Electric',\n",
       "       'Other', 'Flex-Fuel', 'Hybrid Gasoline', 'Natural Gas',\n",
       "       'Plug-in Hybrid', 'Hydrogen Fuel Cell'], dtype=object)"
      ]
     },
     "execution_count": 111,
     "metadata": {},
     "output_type": "execute_result"
    }
   ],
   "source": [
    "df_2019['Fuel'].unique()"
   ]
  },
  {
   "cell_type": "code",
   "execution_count": 112,
   "id": "f0d9e758",
   "metadata": {},
   "outputs": [
    {
     "data": {
      "text/plain": [
       "array(['OTHER/UNK', 'WHITE', 'CHEVROLET', 'DODGE', 'FORD', 'GMC',\n",
       "       'PLYMOUTH', 'ACURA', 'BMW', 'CADILLAC', 'CHRYSLER', 'HONDA',\n",
       "       'INFINITI', 'JEEP', 'KIA', 'LEXUS', 'MAZDA', 'MERCEDES-BENZ',\n",
       "       'NISSAN', 'PONTIAC', 'SCION', 'TOYOTA', 'VOLKSWAGEN', 'HYUNDAI',\n",
       "       'LINCOLN', 'SATURN', 'FREIGHTLINER', 'INTERNATIONAL', 'RAM',\n",
       "       'SUBARU', 'MINI', 'ISUZU', 'PETERBILT', 'MERCURY', 'AUDI', 'BUICK',\n",
       "       'GEO', 'HUMMER', 'JAGUAR', 'LAND ROVER', 'MITSUBISHI',\n",
       "       'OLDSMOBILE', 'SUZUKI', 'VOLVO', 'FIAT', 'PORSCHE', 'TESLA',\n",
       "       'MASERATI', 'ALFA ROMEO', 'GENESIS', 'SAAB', 'HINO',\n",
       "       'MOTOR COACH INDUSTRIES', 'UD TRUCKS', 'WORKHORSE',\n",
       "       'NORTH AMERICAN BUS INDUSTRIES', 'KENWORTH', 'MACK',\n",
       "       'PIERCE MANUFACTURING', 'STERLING', 'AMERICAN LAFRANCE',\n",
       "       'NEWFLYER', 'GILLIG', 'AUTOCAR', 'BLUEBIRD',\n",
       "       'FLXIBLE TRANSIT COACHES', 'FWD', 'NEOPLAN', 'ORION', 'OSHKOSH',\n",
       "       'TMC GREYHOUND', 'WHITE/GMC', 'GEM', 'PREVOST', 'BENTLEY',\n",
       "       'ROLLS-ROYCE', 'FERRARI', 'KOVATCH MOBLIE EQUIPMENT CORP.',\n",
       "       'SMART', 'THOMAS BUS', 'AMERICAN CUSTOM GOLFCARTS', 'ASTON MARTIN',\n",
       "       'MITSUBISHI FUSO', 'NOVABUS', 'MILES', 'KALMAR INDUSTRIES USA LLC',\n",
       "       'MG', 'CRANE CARRIER', 'ROADMASTER', 'IC BUS, LLC', 'CATERPILLAR',\n",
       "       'COLUMBIA', 'VPG', 'AM GENERAL', 'WESTERN STAR', 'EVOBUS',\n",
       "       'SPARTAN', 'DYMAC VEHICLE GROUP INC', 'FLEXIBLE', 'CLUB CAR',\n",
       "       'WESTERN GOLF CART', 'EMERGENCY ONE', 'CAPACITY OF TEXAS INC',\n",
       "       'CROWN COACH INC', 'EBUS', 'VAN HOOL',\n",
       "       'MAN TRUCK AND BUS CORPORATION', 'TROLLEY', 'LODAL', 'TOMBERLIN',\n",
       "       'EZGO', 'HME', 'ALLIANZ', 'SMITH', 'SPECIAL CONSTRUCTION'],\n",
       "      dtype=object)"
      ]
     },
     "execution_count": 112,
     "metadata": {},
     "output_type": "execute_result"
    }
   ],
   "source": [
    "df_2019['Make'].unique()"
   ]
  },
  {
   "cell_type": "code",
   "execution_count": 113,
   "id": "8a48a8dc",
   "metadata": {},
   "outputs": [
    {
     "data": {
      "text/plain": [
       "array(['Light', 'Heavy'], dtype=object)"
      ]
     },
     "execution_count": 113,
     "metadata": {},
     "output_type": "execute_result"
    }
   ],
   "source": [
    "df_2019['Duty'].unique()"
   ]
  },
  {
   "cell_type": "code",
   "execution_count": 114,
   "id": "f79a288f",
   "metadata": {},
   "outputs": [],
   "source": [
    "df_2019 = df_2019[df_2019['Zip Code'] != 'OOS']"
   ]
  },
  {
   "cell_type": "code",
   "execution_count": 115,
   "id": "010636b6",
   "metadata": {},
   "outputs": [],
   "source": [
    "df_2019 = df_2019[df_2019['Zip Code'] != 'Other']"
   ]
  },
  {
   "cell_type": "code",
   "execution_count": 116,
   "id": "3e213598",
   "metadata": {},
   "outputs": [],
   "source": [
    "df_2019 = df_2019[df_2019['Fuel'] != 'Other']"
   ]
  },
  {
   "cell_type": "code",
   "execution_count": 117,
   "id": "f999bc8c",
   "metadata": {},
   "outputs": [],
   "source": [
    "df_2019 = df_2019[df_2019['Make'] != 'OTHER/UNK']"
   ]
  },
  {
   "cell_type": "code",
   "execution_count": 118,
   "id": "3e0190c7",
   "metadata": {},
   "outputs": [
    {
     "data": {
      "text/plain": [
       "array([90000, 90001, 90002, ..., '98072', '98390', '98661'], dtype=object)"
      ]
     },
     "execution_count": 118,
     "metadata": {},
     "output_type": "execute_result"
    }
   ],
   "source": [
    "df_2019['Zip Code'].unique()"
   ]
  },
  {
   "cell_type": "code",
   "execution_count": 119,
   "id": "9fc7ca9a",
   "metadata": {},
   "outputs": [
    {
     "data": {
      "text/plain": [
       "array(['Diesel and Diesel Hybrid', 'Gasoline', 'Flex-Fuel',\n",
       "       'Hybrid Gasoline', 'Battery Electric', 'Plug-in Hybrid',\n",
       "       'Natural Gas', 'Hydrogen Fuel Cell'], dtype=object)"
      ]
     },
     "execution_count": 119,
     "metadata": {},
     "output_type": "execute_result"
    }
   ],
   "source": [
    "df_2019['Fuel'].unique()"
   ]
  },
  {
   "cell_type": "code",
   "execution_count": 120,
   "id": "0c127f25",
   "metadata": {},
   "outputs": [
    {
     "data": {
      "text/plain": [
       "array(['WHITE', 'CHEVROLET', 'DODGE', 'FORD', 'GMC', 'PLYMOUTH', 'ACURA',\n",
       "       'BMW', 'CADILLAC', 'CHRYSLER', 'HONDA', 'INFINITI', 'JEEP', 'KIA',\n",
       "       'LEXUS', 'MAZDA', 'MERCEDES-BENZ', 'NISSAN', 'PONTIAC', 'SCION',\n",
       "       'TOYOTA', 'VOLKSWAGEN', 'HYUNDAI', 'LINCOLN', 'SATURN',\n",
       "       'FREIGHTLINER', 'INTERNATIONAL', 'RAM', 'SUBARU', 'MINI', 'ISUZU',\n",
       "       'PETERBILT', 'MERCURY', 'AUDI', 'BUICK', 'GEO', 'HUMMER', 'JAGUAR',\n",
       "       'LAND ROVER', 'MITSUBISHI', 'OLDSMOBILE', 'SUZUKI', 'VOLVO',\n",
       "       'FIAT', 'PORSCHE', 'TESLA', 'MASERATI', 'ALFA ROMEO', 'GENESIS',\n",
       "       'SAAB', 'HINO', 'MOTOR COACH INDUSTRIES', 'UD TRUCKS', 'WORKHORSE',\n",
       "       'NORTH AMERICAN BUS INDUSTRIES', 'KENWORTH', 'MACK',\n",
       "       'PIERCE MANUFACTURING', 'STERLING', 'AMERICAN LAFRANCE',\n",
       "       'NEWFLYER', 'GILLIG', 'AUTOCAR', 'BLUEBIRD',\n",
       "       'FLXIBLE TRANSIT COACHES', 'FWD', 'NEOPLAN', 'ORION', 'OSHKOSH',\n",
       "       'TMC GREYHOUND', 'WHITE/GMC', 'GEM', 'PREVOST', 'BENTLEY',\n",
       "       'ROLLS-ROYCE', 'FERRARI', 'KOVATCH MOBLIE EQUIPMENT CORP.',\n",
       "       'SMART', 'THOMAS BUS', 'AMERICAN CUSTOM GOLFCARTS', 'ASTON MARTIN',\n",
       "       'MITSUBISHI FUSO', 'NOVABUS', 'MILES', 'KALMAR INDUSTRIES USA LLC',\n",
       "       'MG', 'CRANE CARRIER', 'ROADMASTER', 'IC BUS, LLC', 'CATERPILLAR',\n",
       "       'COLUMBIA', 'VPG', 'AM GENERAL', 'WESTERN STAR', 'EVOBUS',\n",
       "       'SPARTAN', 'DYMAC VEHICLE GROUP INC', 'FLEXIBLE', 'CLUB CAR',\n",
       "       'WESTERN GOLF CART', 'EMERGENCY ONE', 'CAPACITY OF TEXAS INC',\n",
       "       'CROWN COACH INC', 'EBUS', 'VAN HOOL',\n",
       "       'MAN TRUCK AND BUS CORPORATION', 'TROLLEY', 'LODAL', 'TOMBERLIN',\n",
       "       'EZGO', 'HME', 'ALLIANZ'], dtype=object)"
      ]
     },
     "execution_count": 120,
     "metadata": {},
     "output_type": "execute_result"
    }
   ],
   "source": [
    "df_2019['Make'].unique()"
   ]
  },
  {
   "cell_type": "code",
   "execution_count": 121,
   "id": "6f66180f",
   "metadata": {},
   "outputs": [
    {
     "data": {
      "text/plain": [
       "Year           int64\n",
       "Zip Code      object\n",
       "Model Year    object\n",
       "Fuel          object\n",
       "Make          object\n",
       "Duty          object\n",
       "Vehicles       int64\n",
       "dtype: object"
      ]
     },
     "execution_count": 121,
     "metadata": {},
     "output_type": "execute_result"
    }
   ],
   "source": [
    "df_2019.dtypes"
   ]
  },
  {
   "cell_type": "code",
   "execution_count": 122,
   "id": "36986615",
   "metadata": {},
   "outputs": [
    {
     "name": "stderr",
     "output_type": "stream",
     "text": [
      "C:\\Users\\ourfa\\AppData\\Local\\Temp\\ipykernel_21952\\3214022938.py:2: DtypeWarning: Columns (2) have mixed types. Specify dtype option on import or set low_memory=False.\n",
      "  df_2020 = pd.read_csv(file)\n"
     ]
    }
   ],
   "source": [
    "file = Path('Resources/vehicle-fuel-type-count-by-zip-code-2020.csv')\n",
    "df_2020 = pd.read_csv(file)"
   ]
  },
  {
   "cell_type": "code",
   "execution_count": 123,
   "id": "11b64f9a",
   "metadata": {},
   "outputs": [
    {
     "data": {
      "text/html": [
       "<div>\n",
       "<style scoped>\n",
       "    .dataframe tbody tr th:only-of-type {\n",
       "        vertical-align: middle;\n",
       "    }\n",
       "\n",
       "    .dataframe tbody tr th {\n",
       "        vertical-align: top;\n",
       "    }\n",
       "\n",
       "    .dataframe thead th {\n",
       "        text-align: right;\n",
       "    }\n",
       "</style>\n",
       "<table border=\"1\" class=\"dataframe\">\n",
       "  <thead>\n",
       "    <tr style=\"text-align: right;\">\n",
       "      <th></th>\n",
       "      <th>Date</th>\n",
       "      <th>Zip Code</th>\n",
       "      <th>Model Year</th>\n",
       "      <th>Fuel</th>\n",
       "      <th>Make</th>\n",
       "      <th>Duty</th>\n",
       "      <th>Vehicles</th>\n",
       "    </tr>\n",
       "  </thead>\n",
       "  <tbody>\n",
       "    <tr>\n",
       "      <th>0</th>\n",
       "      <td>1/1/2020</td>\n",
       "      <td>90001</td>\n",
       "      <td>2007</td>\n",
       "      <td>Gasoline</td>\n",
       "      <td>ACURA</td>\n",
       "      <td>Light</td>\n",
       "      <td>15</td>\n",
       "    </tr>\n",
       "    <tr>\n",
       "      <th>1</th>\n",
       "      <td>1/1/2020</td>\n",
       "      <td>90002</td>\n",
       "      <td>2007</td>\n",
       "      <td>Gasoline</td>\n",
       "      <td>ACURA</td>\n",
       "      <td>Light</td>\n",
       "      <td>20</td>\n",
       "    </tr>\n",
       "    <tr>\n",
       "      <th>2</th>\n",
       "      <td>1/1/2020</td>\n",
       "      <td>90003</td>\n",
       "      <td>2007</td>\n",
       "      <td>Gasoline</td>\n",
       "      <td>ACURA</td>\n",
       "      <td>Light</td>\n",
       "      <td>29</td>\n",
       "    </tr>\n",
       "    <tr>\n",
       "      <th>3</th>\n",
       "      <td>1/1/2020</td>\n",
       "      <td>90004</td>\n",
       "      <td>2007</td>\n",
       "      <td>Gasoline</td>\n",
       "      <td>ACURA</td>\n",
       "      <td>Light</td>\n",
       "      <td>19</td>\n",
       "    </tr>\n",
       "    <tr>\n",
       "      <th>4</th>\n",
       "      <td>1/1/2020</td>\n",
       "      <td>90006</td>\n",
       "      <td>2007</td>\n",
       "      <td>Gasoline</td>\n",
       "      <td>ACURA</td>\n",
       "      <td>Light</td>\n",
       "      <td>15</td>\n",
       "    </tr>\n",
       "  </tbody>\n",
       "</table>\n",
       "</div>"
      ],
      "text/plain": [
       "       Date Zip Code Model Year      Fuel   Make   Duty  Vehicles\n",
       "0  1/1/2020    90001       2007  Gasoline  ACURA  Light        15\n",
       "1  1/1/2020    90002       2007  Gasoline  ACURA  Light        20\n",
       "2  1/1/2020    90003       2007  Gasoline  ACURA  Light        29\n",
       "3  1/1/2020    90004       2007  Gasoline  ACURA  Light        19\n",
       "4  1/1/2020    90006       2007  Gasoline  ACURA  Light        15"
      ]
     },
     "execution_count": 123,
     "metadata": {},
     "output_type": "execute_result"
    }
   ],
   "source": [
    "df_2020.head()"
   ]
  },
  {
   "cell_type": "code",
   "execution_count": 124,
   "id": "92426f9e",
   "metadata": {},
   "outputs": [
    {
     "data": {
      "text/html": [
       "<div>\n",
       "<style scoped>\n",
       "    .dataframe tbody tr th:only-of-type {\n",
       "        vertical-align: middle;\n",
       "    }\n",
       "\n",
       "    .dataframe tbody tr th {\n",
       "        vertical-align: top;\n",
       "    }\n",
       "\n",
       "    .dataframe thead th {\n",
       "        text-align: right;\n",
       "    }\n",
       "</style>\n",
       "<table border=\"1\" class=\"dataframe\">\n",
       "  <thead>\n",
       "    <tr style=\"text-align: right;\">\n",
       "      <th></th>\n",
       "      <th>Date</th>\n",
       "      <th>Zip Code</th>\n",
       "      <th>Model Year</th>\n",
       "      <th>Fuel</th>\n",
       "      <th>Make</th>\n",
       "      <th>Duty</th>\n",
       "      <th>Vehicles</th>\n",
       "    </tr>\n",
       "  </thead>\n",
       "  <tbody>\n",
       "    <tr>\n",
       "      <th>602389</th>\n",
       "      <td>1/1/2020</td>\n",
       "      <td>OOS</td>\n",
       "      <td>Unk</td>\n",
       "      <td>Gasoline</td>\n",
       "      <td>Unk</td>\n",
       "      <td>Heavy</td>\n",
       "      <td>98</td>\n",
       "    </tr>\n",
       "    <tr>\n",
       "      <th>602390</th>\n",
       "      <td>1/1/2020</td>\n",
       "      <td>90012</td>\n",
       "      <td>Unk</td>\n",
       "      <td>Gasoline</td>\n",
       "      <td>Unk</td>\n",
       "      <td>Light</td>\n",
       "      <td>12</td>\n",
       "    </tr>\n",
       "    <tr>\n",
       "      <th>602391</th>\n",
       "      <td>1/1/2020</td>\n",
       "      <td>93065</td>\n",
       "      <td>Unk</td>\n",
       "      <td>Gasoline</td>\n",
       "      <td>Unk</td>\n",
       "      <td>Light</td>\n",
       "      <td>11</td>\n",
       "    </tr>\n",
       "    <tr>\n",
       "      <th>602392</th>\n",
       "      <td>1/1/2020</td>\n",
       "      <td>95762</td>\n",
       "      <td>Unk</td>\n",
       "      <td>Gasoline</td>\n",
       "      <td>Unk</td>\n",
       "      <td>Light</td>\n",
       "      <td>12</td>\n",
       "    </tr>\n",
       "    <tr>\n",
       "      <th>602393</th>\n",
       "      <td>1/1/2020</td>\n",
       "      <td>OOS</td>\n",
       "      <td>Unk</td>\n",
       "      <td>Gasoline</td>\n",
       "      <td>Unk</td>\n",
       "      <td>Light</td>\n",
       "      <td>52</td>\n",
       "    </tr>\n",
       "  </tbody>\n",
       "</table>\n",
       "</div>"
      ],
      "text/plain": [
       "            Date Zip Code Model Year      Fuel Make   Duty  Vehicles\n",
       "602389  1/1/2020      OOS        Unk  Gasoline  Unk  Heavy        98\n",
       "602390  1/1/2020    90012        Unk  Gasoline  Unk  Light        12\n",
       "602391  1/1/2020    93065        Unk  Gasoline  Unk  Light        11\n",
       "602392  1/1/2020    95762        Unk  Gasoline  Unk  Light        12\n",
       "602393  1/1/2020      OOS        Unk  Gasoline  Unk  Light        52"
      ]
     },
     "execution_count": 124,
     "metadata": {},
     "output_type": "execute_result"
    }
   ],
   "source": [
    "df_2020.tail()"
   ]
  },
  {
   "cell_type": "code",
   "execution_count": 125,
   "id": "a9122fbb",
   "metadata": {},
   "outputs": [
    {
     "data": {
      "text/html": [
       "<div>\n",
       "<style scoped>\n",
       "    .dataframe tbody tr th:only-of-type {\n",
       "        vertical-align: middle;\n",
       "    }\n",
       "\n",
       "    .dataframe tbody tr th {\n",
       "        vertical-align: top;\n",
       "    }\n",
       "\n",
       "    .dataframe thead th {\n",
       "        text-align: right;\n",
       "    }\n",
       "</style>\n",
       "<table border=\"1\" class=\"dataframe\">\n",
       "  <thead>\n",
       "    <tr style=\"text-align: right;\">\n",
       "      <th></th>\n",
       "      <th>Date</th>\n",
       "      <th>Zip Code</th>\n",
       "      <th>Model Year</th>\n",
       "      <th>Fuel</th>\n",
       "      <th>Make</th>\n",
       "      <th>Duty</th>\n",
       "      <th>Vehicles</th>\n",
       "    </tr>\n",
       "  </thead>\n",
       "  <tbody>\n",
       "    <tr>\n",
       "      <th>0</th>\n",
       "      <td>2020</td>\n",
       "      <td>90001</td>\n",
       "      <td>2007</td>\n",
       "      <td>Gasoline</td>\n",
       "      <td>ACURA</td>\n",
       "      <td>Light</td>\n",
       "      <td>15</td>\n",
       "    </tr>\n",
       "    <tr>\n",
       "      <th>1</th>\n",
       "      <td>2020</td>\n",
       "      <td>90002</td>\n",
       "      <td>2007</td>\n",
       "      <td>Gasoline</td>\n",
       "      <td>ACURA</td>\n",
       "      <td>Light</td>\n",
       "      <td>20</td>\n",
       "    </tr>\n",
       "    <tr>\n",
       "      <th>2</th>\n",
       "      <td>2020</td>\n",
       "      <td>90003</td>\n",
       "      <td>2007</td>\n",
       "      <td>Gasoline</td>\n",
       "      <td>ACURA</td>\n",
       "      <td>Light</td>\n",
       "      <td>29</td>\n",
       "    </tr>\n",
       "    <tr>\n",
       "      <th>3</th>\n",
       "      <td>2020</td>\n",
       "      <td>90004</td>\n",
       "      <td>2007</td>\n",
       "      <td>Gasoline</td>\n",
       "      <td>ACURA</td>\n",
       "      <td>Light</td>\n",
       "      <td>19</td>\n",
       "    </tr>\n",
       "    <tr>\n",
       "      <th>4</th>\n",
       "      <td>2020</td>\n",
       "      <td>90006</td>\n",
       "      <td>2007</td>\n",
       "      <td>Gasoline</td>\n",
       "      <td>ACURA</td>\n",
       "      <td>Light</td>\n",
       "      <td>15</td>\n",
       "    </tr>\n",
       "  </tbody>\n",
       "</table>\n",
       "</div>"
      ],
      "text/plain": [
       "   Date Zip Code Model Year      Fuel   Make   Duty  Vehicles\n",
       "0  2020    90001       2007  Gasoline  ACURA  Light        15\n",
       "1  2020    90002       2007  Gasoline  ACURA  Light        20\n",
       "2  2020    90003       2007  Gasoline  ACURA  Light        29\n",
       "3  2020    90004       2007  Gasoline  ACURA  Light        19\n",
       "4  2020    90006       2007  Gasoline  ACURA  Light        15"
      ]
     },
     "execution_count": 125,
     "metadata": {},
     "output_type": "execute_result"
    }
   ],
   "source": [
    "df_2020['Date'] = 2020\n",
    "df_2020.head()"
   ]
  },
  {
   "cell_type": "code",
   "execution_count": 126,
   "id": "cefd8ae6",
   "metadata": {},
   "outputs": [
    {
     "data": {
      "text/html": [
       "<div>\n",
       "<style scoped>\n",
       "    .dataframe tbody tr th:only-of-type {\n",
       "        vertical-align: middle;\n",
       "    }\n",
       "\n",
       "    .dataframe tbody tr th {\n",
       "        vertical-align: top;\n",
       "    }\n",
       "\n",
       "    .dataframe thead th {\n",
       "        text-align: right;\n",
       "    }\n",
       "</style>\n",
       "<table border=\"1\" class=\"dataframe\">\n",
       "  <thead>\n",
       "    <tr style=\"text-align: right;\">\n",
       "      <th></th>\n",
       "      <th>Date</th>\n",
       "      <th>Zip Code</th>\n",
       "      <th>Model Year</th>\n",
       "      <th>Fuel</th>\n",
       "      <th>Make</th>\n",
       "      <th>Duty</th>\n",
       "      <th>Vehicles</th>\n",
       "    </tr>\n",
       "  </thead>\n",
       "  <tbody>\n",
       "    <tr>\n",
       "      <th>602389</th>\n",
       "      <td>2020</td>\n",
       "      <td>OOS</td>\n",
       "      <td>Unk</td>\n",
       "      <td>Gasoline</td>\n",
       "      <td>Unk</td>\n",
       "      <td>Heavy</td>\n",
       "      <td>98</td>\n",
       "    </tr>\n",
       "    <tr>\n",
       "      <th>602390</th>\n",
       "      <td>2020</td>\n",
       "      <td>90012</td>\n",
       "      <td>Unk</td>\n",
       "      <td>Gasoline</td>\n",
       "      <td>Unk</td>\n",
       "      <td>Light</td>\n",
       "      <td>12</td>\n",
       "    </tr>\n",
       "    <tr>\n",
       "      <th>602391</th>\n",
       "      <td>2020</td>\n",
       "      <td>93065</td>\n",
       "      <td>Unk</td>\n",
       "      <td>Gasoline</td>\n",
       "      <td>Unk</td>\n",
       "      <td>Light</td>\n",
       "      <td>11</td>\n",
       "    </tr>\n",
       "    <tr>\n",
       "      <th>602392</th>\n",
       "      <td>2020</td>\n",
       "      <td>95762</td>\n",
       "      <td>Unk</td>\n",
       "      <td>Gasoline</td>\n",
       "      <td>Unk</td>\n",
       "      <td>Light</td>\n",
       "      <td>12</td>\n",
       "    </tr>\n",
       "    <tr>\n",
       "      <th>602393</th>\n",
       "      <td>2020</td>\n",
       "      <td>OOS</td>\n",
       "      <td>Unk</td>\n",
       "      <td>Gasoline</td>\n",
       "      <td>Unk</td>\n",
       "      <td>Light</td>\n",
       "      <td>52</td>\n",
       "    </tr>\n",
       "  </tbody>\n",
       "</table>\n",
       "</div>"
      ],
      "text/plain": [
       "        Date Zip Code Model Year      Fuel Make   Duty  Vehicles\n",
       "602389  2020      OOS        Unk  Gasoline  Unk  Heavy        98\n",
       "602390  2020    90012        Unk  Gasoline  Unk  Light        12\n",
       "602391  2020    93065        Unk  Gasoline  Unk  Light        11\n",
       "602392  2020    95762        Unk  Gasoline  Unk  Light        12\n",
       "602393  2020      OOS        Unk  Gasoline  Unk  Light        52"
      ]
     },
     "execution_count": 126,
     "metadata": {},
     "output_type": "execute_result"
    }
   ],
   "source": [
    "df_2020.tail()"
   ]
  },
  {
   "cell_type": "code",
   "execution_count": 127,
   "id": "b7706d85",
   "metadata": {},
   "outputs": [
    {
     "data": {
      "text/html": [
       "<div>\n",
       "<style scoped>\n",
       "    .dataframe tbody tr th:only-of-type {\n",
       "        vertical-align: middle;\n",
       "    }\n",
       "\n",
       "    .dataframe tbody tr th {\n",
       "        vertical-align: top;\n",
       "    }\n",
       "\n",
       "    .dataframe thead th {\n",
       "        text-align: right;\n",
       "    }\n",
       "</style>\n",
       "<table border=\"1\" class=\"dataframe\">\n",
       "  <thead>\n",
       "    <tr style=\"text-align: right;\">\n",
       "      <th></th>\n",
       "      <th>Year</th>\n",
       "      <th>Zip Code</th>\n",
       "      <th>Model Year</th>\n",
       "      <th>Fuel</th>\n",
       "      <th>Make</th>\n",
       "      <th>Duty</th>\n",
       "      <th>Vehicles</th>\n",
       "    </tr>\n",
       "  </thead>\n",
       "  <tbody>\n",
       "    <tr>\n",
       "      <th>0</th>\n",
       "      <td>2020</td>\n",
       "      <td>90001</td>\n",
       "      <td>2007</td>\n",
       "      <td>Gasoline</td>\n",
       "      <td>ACURA</td>\n",
       "      <td>Light</td>\n",
       "      <td>15</td>\n",
       "    </tr>\n",
       "    <tr>\n",
       "      <th>1</th>\n",
       "      <td>2020</td>\n",
       "      <td>90002</td>\n",
       "      <td>2007</td>\n",
       "      <td>Gasoline</td>\n",
       "      <td>ACURA</td>\n",
       "      <td>Light</td>\n",
       "      <td>20</td>\n",
       "    </tr>\n",
       "    <tr>\n",
       "      <th>2</th>\n",
       "      <td>2020</td>\n",
       "      <td>90003</td>\n",
       "      <td>2007</td>\n",
       "      <td>Gasoline</td>\n",
       "      <td>ACURA</td>\n",
       "      <td>Light</td>\n",
       "      <td>29</td>\n",
       "    </tr>\n",
       "    <tr>\n",
       "      <th>3</th>\n",
       "      <td>2020</td>\n",
       "      <td>90004</td>\n",
       "      <td>2007</td>\n",
       "      <td>Gasoline</td>\n",
       "      <td>ACURA</td>\n",
       "      <td>Light</td>\n",
       "      <td>19</td>\n",
       "    </tr>\n",
       "    <tr>\n",
       "      <th>4</th>\n",
       "      <td>2020</td>\n",
       "      <td>90006</td>\n",
       "      <td>2007</td>\n",
       "      <td>Gasoline</td>\n",
       "      <td>ACURA</td>\n",
       "      <td>Light</td>\n",
       "      <td>15</td>\n",
       "    </tr>\n",
       "  </tbody>\n",
       "</table>\n",
       "</div>"
      ],
      "text/plain": [
       "   Year Zip Code Model Year      Fuel   Make   Duty  Vehicles\n",
       "0  2020    90001       2007  Gasoline  ACURA  Light        15\n",
       "1  2020    90002       2007  Gasoline  ACURA  Light        20\n",
       "2  2020    90003       2007  Gasoline  ACURA  Light        29\n",
       "3  2020    90004       2007  Gasoline  ACURA  Light        19\n",
       "4  2020    90006       2007  Gasoline  ACURA  Light        15"
      ]
     },
     "execution_count": 127,
     "metadata": {},
     "output_type": "execute_result"
    }
   ],
   "source": [
    "df_2020.rename(columns={'Date':'Year'}, inplace=True)\n",
    "df_2020.head()"
   ]
  },
  {
   "cell_type": "code",
   "execution_count": 128,
   "id": "2932e513",
   "metadata": {},
   "outputs": [
    {
     "data": {
      "text/plain": [
       "array(['90001', '90002', '90003', ..., '97280', '90112', '94286'],\n",
       "      dtype=object)"
      ]
     },
     "execution_count": 128,
     "metadata": {},
     "output_type": "execute_result"
    }
   ],
   "source": [
    "df_2020['Zip Code'].unique()"
   ]
  },
  {
   "cell_type": "code",
   "execution_count": 129,
   "id": "2cdeb494",
   "metadata": {},
   "outputs": [
    {
     "data": {
      "text/plain": [
       "array([2007, 2008, 2009, 2010, 2011, 2012, 2013, 2014, 2015, 2016, 2017,\n",
       "       '2017', '2018', '2019', '2020', '2021', '<2007', 'Unk'],\n",
       "      dtype=object)"
      ]
     },
     "execution_count": 129,
     "metadata": {},
     "output_type": "execute_result"
    }
   ],
   "source": [
    "df_2020['Model Year'].unique()"
   ]
  },
  {
   "cell_type": "code",
   "execution_count": 130,
   "id": "63061004",
   "metadata": {},
   "outputs": [
    {
     "data": {
      "text/plain": [
       "array(['Gasoline', 'Natural Gas', 'Diesel and Diesel Hybrid', 'Flex-Fuel',\n",
       "       'Hybrid Gasoline', 'Other', 'Battery Electric',\n",
       "       'Hydrogen Fuel Cell', 'Plug-in Hybrid'], dtype=object)"
      ]
     },
     "execution_count": 130,
     "metadata": {},
     "output_type": "execute_result"
    }
   ],
   "source": [
    "df_2020['Fuel'].unique()"
   ]
  },
  {
   "cell_type": "code",
   "execution_count": 131,
   "id": "45f82ec4",
   "metadata": {},
   "outputs": [
    {
     "data": {
      "text/plain": [
       "array(['ACURA', 'ALLIANZ', 'AMERICAN LAFRANCE', 'AUDI', 'AUTOCAR',\n",
       "       'BENTLEY', 'BLUEBIRD', 'BMW', 'BUICK', 'CADILLAC', 'CHEVROLET',\n",
       "       'CHRYSLER', 'CRANE CARRIER', 'DODGE', 'EMERGENCY ONE', 'FORD',\n",
       "       'FREIGHTLINER', 'GILLIG', 'GMC', 'HINO', 'HONDA', 'HUMMER',\n",
       "       'HYUNDAI', 'INFINITI', 'INTERNATIONAL', 'ISUZU', 'JAGUAR', 'JEEP',\n",
       "       'KALMAR INDUSTRIES USA LLC', 'KENWORTH', 'KIA',\n",
       "       'KOVATCH MOBLIE EQUIPMENT CORP.', 'LAND ROVER', 'LEXUS', 'LINCOLN',\n",
       "       'MACK', 'MAZDA', 'MERCEDES-BENZ', 'MERCURY', 'MINI', 'MITSUBISHI',\n",
       "       'NEWFLYER', 'NISSAN', 'NORTH AMERICAN BUS INDUSTRIES', 'ORION',\n",
       "       'OTHER/UNK', 'PETERBILT', 'PIERCE MANUFACTURING', 'PONTIAC',\n",
       "       'PORSCHE', 'SAAB', 'SATURN', 'SCION', 'SPARTAN', 'STERLING',\n",
       "       'SUBARU', 'SUZUKI', 'THOMAS BUS', 'TOYOTA', 'UD TRUCKS', 'Unk',\n",
       "       'VOLKSWAGEN', 'VOLVO', 'WORKHORSE', 'CATERPILLAR', 'HME',\n",
       "       'IC BUS, LLC', 'SMART', 'TESLA', 'THOMAS BUILT BUSES', 'VAN HOOL',\n",
       "       'CAPACITY OF TEXAS INC', 'EVOBUS', 'MOTOR COACH INDUSTRIES',\n",
       "       'SMITH', 'RAM', 'ROLLS-ROYCE', 'FIAT', 'MITSUBISHI FUSO', 'VPG',\n",
       "       'BLUE BIRD', 'FERRARI', 'WESTERN STAR', 'ALEXANDER DENNIS',\n",
       "       'AM GENERAL', 'MASERATI', 'PREVOST', 'NEW FLYER', 'PIERCE',\n",
       "       'ALFA ROMEO', 'CAPACITY', 'GENESIS', 'IC BUS', 'KALMAR', 'TEMSA',\n",
       "       'ASTON MARTIN', 'LAMBORGHINI', 'COUNTRY COACH', 'CROWN COACH INC',\n",
       "       'FLEXIBLE', 'FLXIBLE TRANSIT COACHES', 'FWD', 'GEO', 'LODAL',\n",
       "       'MAN TRUCK AND BUS CORPORATION', 'MG', 'NEOPLAN', 'NOVABUS',\n",
       "       'OLDSMOBILE', 'OSHKOSH', 'PLYMOUTH', 'ROADMASTER',\n",
       "       'SPECIAL CONSTRUCTION', 'TMC GREYHOUND', 'TROLLEY', 'WHITE',\n",
       "       'WHITE/GMC'], dtype=object)"
      ]
     },
     "execution_count": 131,
     "metadata": {},
     "output_type": "execute_result"
    }
   ],
   "source": [
    "df_2020['Make'].unique()"
   ]
  },
  {
   "cell_type": "code",
   "execution_count": 132,
   "id": "51ecc516",
   "metadata": {},
   "outputs": [
    {
     "data": {
      "text/plain": [
       "array(['Light', 'Heavy'], dtype=object)"
      ]
     },
     "execution_count": 132,
     "metadata": {},
     "output_type": "execute_result"
    }
   ],
   "source": [
    "df_2020['Duty'].unique()"
   ]
  },
  {
   "cell_type": "code",
   "execution_count": 133,
   "id": "c3002543",
   "metadata": {},
   "outputs": [],
   "source": [
    "df_2020 = df_2020[df_2020['Zip Code'] != 'OOS']"
   ]
  },
  {
   "cell_type": "code",
   "execution_count": 134,
   "id": "a374951e",
   "metadata": {},
   "outputs": [],
   "source": [
    "df_2020 = df_2020[df_2020['Zip Code'] != 'Other']"
   ]
  },
  {
   "cell_type": "code",
   "execution_count": 135,
   "id": "3c9da2df",
   "metadata": {},
   "outputs": [],
   "source": [
    "df_2020 = df_2020[df_2020['Fuel'] != 'Other']"
   ]
  },
  {
   "cell_type": "code",
   "execution_count": 136,
   "id": "14e73aae",
   "metadata": {},
   "outputs": [],
   "source": [
    "df_2020 = df_2020[df_2020['Model Year']!='Unk']"
   ]
  },
  {
   "cell_type": "code",
   "execution_count": 137,
   "id": "1b99a7d4",
   "metadata": {},
   "outputs": [],
   "source": [
    "df_2020 = df_2020[df_2020['Make'] != 'OTHER/UNK']"
   ]
  },
  {
   "cell_type": "code",
   "execution_count": 138,
   "id": "60658d8c",
   "metadata": {},
   "outputs": [
    {
     "data": {
      "text/plain": [
       "array(['90001', '90002', '90003', ..., '95802', '92330', '98004'],\n",
       "      dtype=object)"
      ]
     },
     "execution_count": 138,
     "metadata": {},
     "output_type": "execute_result"
    }
   ],
   "source": [
    "df_2020['Zip Code'].unique()"
   ]
  },
  {
   "cell_type": "code",
   "execution_count": 139,
   "id": "35b3cb4b",
   "metadata": {},
   "outputs": [
    {
     "data": {
      "text/plain": [
       "array(['Gasoline', 'Natural Gas', 'Diesel and Diesel Hybrid', 'Flex-Fuel',\n",
       "       'Hybrid Gasoline', 'Battery Electric', 'Plug-in Hybrid',\n",
       "       'Hydrogen Fuel Cell'], dtype=object)"
      ]
     },
     "execution_count": 139,
     "metadata": {},
     "output_type": "execute_result"
    }
   ],
   "source": [
    "df_2020['Fuel'].unique()"
   ]
  },
  {
   "cell_type": "code",
   "execution_count": 140,
   "id": "49e9ac08",
   "metadata": {},
   "outputs": [
    {
     "data": {
      "text/plain": [
       "array([2007, 2008, 2009, 2010, 2011, 2012, 2013, 2014, 2015, 2016, 2017,\n",
       "       '2017', '2018', '2019', '2020', '<2007'], dtype=object)"
      ]
     },
     "execution_count": 140,
     "metadata": {},
     "output_type": "execute_result"
    }
   ],
   "source": [
    "df_2020['Model Year'].unique()"
   ]
  },
  {
   "cell_type": "code",
   "execution_count": 141,
   "id": "c82c379f",
   "metadata": {},
   "outputs": [
    {
     "data": {
      "text/plain": [
       "array(['ACURA', 'ALLIANZ', 'AMERICAN LAFRANCE', 'AUDI', 'AUTOCAR',\n",
       "       'BENTLEY', 'BLUEBIRD', 'BMW', 'BUICK', 'CADILLAC', 'CHEVROLET',\n",
       "       'CHRYSLER', 'CRANE CARRIER', 'DODGE', 'EMERGENCY ONE', 'FORD',\n",
       "       'FREIGHTLINER', 'GILLIG', 'GMC', 'HINO', 'HONDA', 'HUMMER',\n",
       "       'HYUNDAI', 'INFINITI', 'INTERNATIONAL', 'ISUZU', 'JAGUAR', 'JEEP',\n",
       "       'KALMAR INDUSTRIES USA LLC', 'KENWORTH', 'KIA',\n",
       "       'KOVATCH MOBLIE EQUIPMENT CORP.', 'LAND ROVER', 'LEXUS', 'LINCOLN',\n",
       "       'MACK', 'MAZDA', 'MERCEDES-BENZ', 'MERCURY', 'MINI', 'MITSUBISHI',\n",
       "       'NEWFLYER', 'NISSAN', 'NORTH AMERICAN BUS INDUSTRIES', 'ORION',\n",
       "       'PETERBILT', 'PIERCE MANUFACTURING', 'PONTIAC', 'PORSCHE',\n",
       "       'SATURN', 'SCION', 'SPARTAN', 'STERLING', 'SUBARU', 'THOMAS BUS',\n",
       "       'TOYOTA', 'UD TRUCKS', 'Unk', 'VOLKSWAGEN', 'VOLVO', 'WORKHORSE',\n",
       "       'CATERPILLAR', 'HME', 'IC BUS, LLC', 'SMART', 'SUZUKI', 'TESLA',\n",
       "       'VAN HOOL', 'CAPACITY OF TEXAS INC', 'EVOBUS',\n",
       "       'MOTOR COACH INDUSTRIES', 'RAM', 'ROLLS-ROYCE', 'FIAT',\n",
       "       'MITSUBISHI FUSO', 'VPG', 'BLUE BIRD', 'FERRARI', 'WESTERN STAR',\n",
       "       'ALEXANDER DENNIS', 'AM GENERAL', 'MASERATI', 'PREVOST',\n",
       "       'NEW FLYER', 'PIERCE', 'THOMAS BUILT BUSES', 'ALFA ROMEO',\n",
       "       'CAPACITY', 'GENESIS', 'IC BUS', 'KALMAR', 'TEMSA', 'ASTON MARTIN',\n",
       "       'LAMBORGHINI', 'CROWN COACH INC', 'FLEXIBLE',\n",
       "       'FLXIBLE TRANSIT COACHES', 'FWD', 'GEO', 'LODAL',\n",
       "       'MAN TRUCK AND BUS CORPORATION', 'MG', 'NEOPLAN', 'NOVABUS',\n",
       "       'OLDSMOBILE', 'OSHKOSH', 'PLYMOUTH', 'ROADMASTER', 'SAAB',\n",
       "       'TMC GREYHOUND', 'TROLLEY', 'WHITE', 'WHITE/GMC'], dtype=object)"
      ]
     },
     "execution_count": 141,
     "metadata": {},
     "output_type": "execute_result"
    }
   ],
   "source": [
    "df_2020['Make'].unique()"
   ]
  },
  {
   "cell_type": "code",
   "execution_count": 142,
   "id": "b438c272",
   "metadata": {},
   "outputs": [
    {
     "name": "stderr",
     "output_type": "stream",
     "text": [
      "C:\\Users\\ourfa\\AppData\\Local\\Temp\\ipykernel_21952\\1549191446.py:2: DtypeWarning: Columns (2) have mixed types. Specify dtype option on import or set low_memory=False.\n",
      "  df_2021 = pd.read_csv(file)\n"
     ]
    }
   ],
   "source": [
    "file = Path('Resources/vehicle-fuel-type-count-by-zip-code-2021.csv')\n",
    "df_2021 = pd.read_csv(file)"
   ]
  },
  {
   "cell_type": "code",
   "execution_count": 143,
   "id": "704a7a30",
   "metadata": {},
   "outputs": [
    {
     "data": {
      "text/html": [
       "<div>\n",
       "<style scoped>\n",
       "    .dataframe tbody tr th:only-of-type {\n",
       "        vertical-align: middle;\n",
       "    }\n",
       "\n",
       "    .dataframe tbody tr th {\n",
       "        vertical-align: top;\n",
       "    }\n",
       "\n",
       "    .dataframe thead th {\n",
       "        text-align: right;\n",
       "    }\n",
       "</style>\n",
       "<table border=\"1\" class=\"dataframe\">\n",
       "  <thead>\n",
       "    <tr style=\"text-align: right;\">\n",
       "      <th></th>\n",
       "      <th>Date</th>\n",
       "      <th>Zip Code</th>\n",
       "      <th>Model Year</th>\n",
       "      <th>Fuel</th>\n",
       "      <th>Make</th>\n",
       "      <th>Duty</th>\n",
       "      <th>Vehicles</th>\n",
       "    </tr>\n",
       "  </thead>\n",
       "  <tbody>\n",
       "    <tr>\n",
       "      <th>0</th>\n",
       "      <td>1/1/2021</td>\n",
       "      <td>90001</td>\n",
       "      <td>2008</td>\n",
       "      <td>Gasoline</td>\n",
       "      <td>ACURA</td>\n",
       "      <td>Light</td>\n",
       "      <td>12</td>\n",
       "    </tr>\n",
       "    <tr>\n",
       "      <th>1</th>\n",
       "      <td>1/1/2021</td>\n",
       "      <td>90003</td>\n",
       "      <td>2008</td>\n",
       "      <td>Gasoline</td>\n",
       "      <td>ACURA</td>\n",
       "      <td>Light</td>\n",
       "      <td>24</td>\n",
       "    </tr>\n",
       "    <tr>\n",
       "      <th>2</th>\n",
       "      <td>1/1/2021</td>\n",
       "      <td>90004</td>\n",
       "      <td>2008</td>\n",
       "      <td>Gasoline</td>\n",
       "      <td>ACURA</td>\n",
       "      <td>Light</td>\n",
       "      <td>20</td>\n",
       "    </tr>\n",
       "    <tr>\n",
       "      <th>3</th>\n",
       "      <td>1/1/2021</td>\n",
       "      <td>90005</td>\n",
       "      <td>2008</td>\n",
       "      <td>Gasoline</td>\n",
       "      <td>ACURA</td>\n",
       "      <td>Light</td>\n",
       "      <td>12</td>\n",
       "    </tr>\n",
       "    <tr>\n",
       "      <th>4</th>\n",
       "      <td>1/1/2021</td>\n",
       "      <td>90006</td>\n",
       "      <td>2008</td>\n",
       "      <td>Gasoline</td>\n",
       "      <td>ACURA</td>\n",
       "      <td>Light</td>\n",
       "      <td>15</td>\n",
       "    </tr>\n",
       "  </tbody>\n",
       "</table>\n",
       "</div>"
      ],
      "text/plain": [
       "       Date Zip Code Model Year      Fuel   Make   Duty  Vehicles\n",
       "0  1/1/2021    90001       2008  Gasoline  ACURA  Light        12\n",
       "1  1/1/2021    90003       2008  Gasoline  ACURA  Light        24\n",
       "2  1/1/2021    90004       2008  Gasoline  ACURA  Light        20\n",
       "3  1/1/2021    90005       2008  Gasoline  ACURA  Light        12\n",
       "4  1/1/2021    90006       2008  Gasoline  ACURA  Light        15"
      ]
     },
     "execution_count": 143,
     "metadata": {},
     "output_type": "execute_result"
    }
   ],
   "source": [
    "df_2021.head()"
   ]
  },
  {
   "cell_type": "code",
   "execution_count": 144,
   "id": "eca74bfe",
   "metadata": {},
   "outputs": [
    {
     "data": {
      "text/html": [
       "<div>\n",
       "<style scoped>\n",
       "    .dataframe tbody tr th:only-of-type {\n",
       "        vertical-align: middle;\n",
       "    }\n",
       "\n",
       "    .dataframe tbody tr th {\n",
       "        vertical-align: top;\n",
       "    }\n",
       "\n",
       "    .dataframe thead th {\n",
       "        text-align: right;\n",
       "    }\n",
       "</style>\n",
       "<table border=\"1\" class=\"dataframe\">\n",
       "  <thead>\n",
       "    <tr style=\"text-align: right;\">\n",
       "      <th></th>\n",
       "      <th>Date</th>\n",
       "      <th>Zip Code</th>\n",
       "      <th>Model Year</th>\n",
       "      <th>Fuel</th>\n",
       "      <th>Make</th>\n",
       "      <th>Duty</th>\n",
       "      <th>Vehicles</th>\n",
       "    </tr>\n",
       "  </thead>\n",
       "  <tbody>\n",
       "    <tr>\n",
       "      <th>677964</th>\n",
       "      <td>1/1/2021</td>\n",
       "      <td>96003</td>\n",
       "      <td>&lt;2008</td>\n",
       "      <td>Gasoline</td>\n",
       "      <td>WORKHORSE</td>\n",
       "      <td>Heavy</td>\n",
       "      <td>22</td>\n",
       "    </tr>\n",
       "    <tr>\n",
       "      <th>677965</th>\n",
       "      <td>1/1/2021</td>\n",
       "      <td>96080</td>\n",
       "      <td>&lt;2008</td>\n",
       "      <td>Gasoline</td>\n",
       "      <td>WORKHORSE</td>\n",
       "      <td>Heavy</td>\n",
       "      <td>11</td>\n",
       "    </tr>\n",
       "    <tr>\n",
       "      <th>677966</th>\n",
       "      <td>1/1/2021</td>\n",
       "      <td>96161</td>\n",
       "      <td>&lt;2008</td>\n",
       "      <td>Gasoline</td>\n",
       "      <td>WORKHORSE</td>\n",
       "      <td>Heavy</td>\n",
       "      <td>12</td>\n",
       "    </tr>\n",
       "    <tr>\n",
       "      <th>677967</th>\n",
       "      <td>1/1/2021</td>\n",
       "      <td>OOS</td>\n",
       "      <td>&lt;2008</td>\n",
       "      <td>Gasoline</td>\n",
       "      <td>WORKHORSE</td>\n",
       "      <td>Heavy</td>\n",
       "      <td>229</td>\n",
       "    </tr>\n",
       "    <tr>\n",
       "      <th>677968</th>\n",
       "      <td>1/1/2021</td>\n",
       "      <td>OOS</td>\n",
       "      <td>&lt;2008</td>\n",
       "      <td>Gasoline</td>\n",
       "      <td>WORKHORSE</td>\n",
       "      <td>Unk</td>\n",
       "      <td>122</td>\n",
       "    </tr>\n",
       "  </tbody>\n",
       "</table>\n",
       "</div>"
      ],
      "text/plain": [
       "            Date Zip Code Model Year      Fuel       Make   Duty  Vehicles\n",
       "677964  1/1/2021    96003      <2008  Gasoline  WORKHORSE  Heavy        22\n",
       "677965  1/1/2021    96080      <2008  Gasoline  WORKHORSE  Heavy        11\n",
       "677966  1/1/2021    96161      <2008  Gasoline  WORKHORSE  Heavy        12\n",
       "677967  1/1/2021      OOS      <2008  Gasoline  WORKHORSE  Heavy       229\n",
       "677968  1/1/2021      OOS      <2008  Gasoline  WORKHORSE    Unk       122"
      ]
     },
     "execution_count": 144,
     "metadata": {},
     "output_type": "execute_result"
    }
   ],
   "source": [
    "df_2021.tail()"
   ]
  },
  {
   "cell_type": "code",
   "execution_count": 145,
   "id": "80ffdbf5",
   "metadata": {},
   "outputs": [
    {
     "data": {
      "text/html": [
       "<div>\n",
       "<style scoped>\n",
       "    .dataframe tbody tr th:only-of-type {\n",
       "        vertical-align: middle;\n",
       "    }\n",
       "\n",
       "    .dataframe tbody tr th {\n",
       "        vertical-align: top;\n",
       "    }\n",
       "\n",
       "    .dataframe thead th {\n",
       "        text-align: right;\n",
       "    }\n",
       "</style>\n",
       "<table border=\"1\" class=\"dataframe\">\n",
       "  <thead>\n",
       "    <tr style=\"text-align: right;\">\n",
       "      <th></th>\n",
       "      <th>Date</th>\n",
       "      <th>Zip Code</th>\n",
       "      <th>Model Year</th>\n",
       "      <th>Fuel</th>\n",
       "      <th>Make</th>\n",
       "      <th>Duty</th>\n",
       "      <th>Vehicles</th>\n",
       "    </tr>\n",
       "  </thead>\n",
       "  <tbody>\n",
       "    <tr>\n",
       "      <th>0</th>\n",
       "      <td>2021</td>\n",
       "      <td>90001</td>\n",
       "      <td>2008</td>\n",
       "      <td>Gasoline</td>\n",
       "      <td>ACURA</td>\n",
       "      <td>Light</td>\n",
       "      <td>12</td>\n",
       "    </tr>\n",
       "    <tr>\n",
       "      <th>1</th>\n",
       "      <td>2021</td>\n",
       "      <td>90003</td>\n",
       "      <td>2008</td>\n",
       "      <td>Gasoline</td>\n",
       "      <td>ACURA</td>\n",
       "      <td>Light</td>\n",
       "      <td>24</td>\n",
       "    </tr>\n",
       "    <tr>\n",
       "      <th>2</th>\n",
       "      <td>2021</td>\n",
       "      <td>90004</td>\n",
       "      <td>2008</td>\n",
       "      <td>Gasoline</td>\n",
       "      <td>ACURA</td>\n",
       "      <td>Light</td>\n",
       "      <td>20</td>\n",
       "    </tr>\n",
       "    <tr>\n",
       "      <th>3</th>\n",
       "      <td>2021</td>\n",
       "      <td>90005</td>\n",
       "      <td>2008</td>\n",
       "      <td>Gasoline</td>\n",
       "      <td>ACURA</td>\n",
       "      <td>Light</td>\n",
       "      <td>12</td>\n",
       "    </tr>\n",
       "    <tr>\n",
       "      <th>4</th>\n",
       "      <td>2021</td>\n",
       "      <td>90006</td>\n",
       "      <td>2008</td>\n",
       "      <td>Gasoline</td>\n",
       "      <td>ACURA</td>\n",
       "      <td>Light</td>\n",
       "      <td>15</td>\n",
       "    </tr>\n",
       "  </tbody>\n",
       "</table>\n",
       "</div>"
      ],
      "text/plain": [
       "   Date Zip Code Model Year      Fuel   Make   Duty  Vehicles\n",
       "0  2021    90001       2008  Gasoline  ACURA  Light        12\n",
       "1  2021    90003       2008  Gasoline  ACURA  Light        24\n",
       "2  2021    90004       2008  Gasoline  ACURA  Light        20\n",
       "3  2021    90005       2008  Gasoline  ACURA  Light        12\n",
       "4  2021    90006       2008  Gasoline  ACURA  Light        15"
      ]
     },
     "execution_count": 145,
     "metadata": {},
     "output_type": "execute_result"
    }
   ],
   "source": [
    "df_2021['Date'] = 2021\n",
    "df_2021.head()"
   ]
  },
  {
   "cell_type": "code",
   "execution_count": 146,
   "id": "f502892e",
   "metadata": {},
   "outputs": [
    {
     "data": {
      "text/html": [
       "<div>\n",
       "<style scoped>\n",
       "    .dataframe tbody tr th:only-of-type {\n",
       "        vertical-align: middle;\n",
       "    }\n",
       "\n",
       "    .dataframe tbody tr th {\n",
       "        vertical-align: top;\n",
       "    }\n",
       "\n",
       "    .dataframe thead th {\n",
       "        text-align: right;\n",
       "    }\n",
       "</style>\n",
       "<table border=\"1\" class=\"dataframe\">\n",
       "  <thead>\n",
       "    <tr style=\"text-align: right;\">\n",
       "      <th></th>\n",
       "      <th>Date</th>\n",
       "      <th>Zip Code</th>\n",
       "      <th>Model Year</th>\n",
       "      <th>Fuel</th>\n",
       "      <th>Make</th>\n",
       "      <th>Duty</th>\n",
       "      <th>Vehicles</th>\n",
       "    </tr>\n",
       "  </thead>\n",
       "  <tbody>\n",
       "    <tr>\n",
       "      <th>677964</th>\n",
       "      <td>2021</td>\n",
       "      <td>96003</td>\n",
       "      <td>&lt;2008</td>\n",
       "      <td>Gasoline</td>\n",
       "      <td>WORKHORSE</td>\n",
       "      <td>Heavy</td>\n",
       "      <td>22</td>\n",
       "    </tr>\n",
       "    <tr>\n",
       "      <th>677965</th>\n",
       "      <td>2021</td>\n",
       "      <td>96080</td>\n",
       "      <td>&lt;2008</td>\n",
       "      <td>Gasoline</td>\n",
       "      <td>WORKHORSE</td>\n",
       "      <td>Heavy</td>\n",
       "      <td>11</td>\n",
       "    </tr>\n",
       "    <tr>\n",
       "      <th>677966</th>\n",
       "      <td>2021</td>\n",
       "      <td>96161</td>\n",
       "      <td>&lt;2008</td>\n",
       "      <td>Gasoline</td>\n",
       "      <td>WORKHORSE</td>\n",
       "      <td>Heavy</td>\n",
       "      <td>12</td>\n",
       "    </tr>\n",
       "    <tr>\n",
       "      <th>677967</th>\n",
       "      <td>2021</td>\n",
       "      <td>OOS</td>\n",
       "      <td>&lt;2008</td>\n",
       "      <td>Gasoline</td>\n",
       "      <td>WORKHORSE</td>\n",
       "      <td>Heavy</td>\n",
       "      <td>229</td>\n",
       "    </tr>\n",
       "    <tr>\n",
       "      <th>677968</th>\n",
       "      <td>2021</td>\n",
       "      <td>OOS</td>\n",
       "      <td>&lt;2008</td>\n",
       "      <td>Gasoline</td>\n",
       "      <td>WORKHORSE</td>\n",
       "      <td>Unk</td>\n",
       "      <td>122</td>\n",
       "    </tr>\n",
       "  </tbody>\n",
       "</table>\n",
       "</div>"
      ],
      "text/plain": [
       "        Date Zip Code Model Year      Fuel       Make   Duty  Vehicles\n",
       "677964  2021    96003      <2008  Gasoline  WORKHORSE  Heavy        22\n",
       "677965  2021    96080      <2008  Gasoline  WORKHORSE  Heavy        11\n",
       "677966  2021    96161      <2008  Gasoline  WORKHORSE  Heavy        12\n",
       "677967  2021      OOS      <2008  Gasoline  WORKHORSE  Heavy       229\n",
       "677968  2021      OOS      <2008  Gasoline  WORKHORSE    Unk       122"
      ]
     },
     "execution_count": 146,
     "metadata": {},
     "output_type": "execute_result"
    }
   ],
   "source": [
    "df_2021.tail()"
   ]
  },
  {
   "cell_type": "code",
   "execution_count": 147,
   "id": "c4c3aa93",
   "metadata": {},
   "outputs": [
    {
     "data": {
      "text/html": [
       "<div>\n",
       "<style scoped>\n",
       "    .dataframe tbody tr th:only-of-type {\n",
       "        vertical-align: middle;\n",
       "    }\n",
       "\n",
       "    .dataframe tbody tr th {\n",
       "        vertical-align: top;\n",
       "    }\n",
       "\n",
       "    .dataframe thead th {\n",
       "        text-align: right;\n",
       "    }\n",
       "</style>\n",
       "<table border=\"1\" class=\"dataframe\">\n",
       "  <thead>\n",
       "    <tr style=\"text-align: right;\">\n",
       "      <th></th>\n",
       "      <th>Year</th>\n",
       "      <th>Zip Code</th>\n",
       "      <th>Model Year</th>\n",
       "      <th>Fuel</th>\n",
       "      <th>Make</th>\n",
       "      <th>Duty</th>\n",
       "      <th>Vehicles</th>\n",
       "    </tr>\n",
       "  </thead>\n",
       "  <tbody>\n",
       "    <tr>\n",
       "      <th>0</th>\n",
       "      <td>2021</td>\n",
       "      <td>90001</td>\n",
       "      <td>2008</td>\n",
       "      <td>Gasoline</td>\n",
       "      <td>ACURA</td>\n",
       "      <td>Light</td>\n",
       "      <td>12</td>\n",
       "    </tr>\n",
       "    <tr>\n",
       "      <th>1</th>\n",
       "      <td>2021</td>\n",
       "      <td>90003</td>\n",
       "      <td>2008</td>\n",
       "      <td>Gasoline</td>\n",
       "      <td>ACURA</td>\n",
       "      <td>Light</td>\n",
       "      <td>24</td>\n",
       "    </tr>\n",
       "    <tr>\n",
       "      <th>2</th>\n",
       "      <td>2021</td>\n",
       "      <td>90004</td>\n",
       "      <td>2008</td>\n",
       "      <td>Gasoline</td>\n",
       "      <td>ACURA</td>\n",
       "      <td>Light</td>\n",
       "      <td>20</td>\n",
       "    </tr>\n",
       "    <tr>\n",
       "      <th>3</th>\n",
       "      <td>2021</td>\n",
       "      <td>90005</td>\n",
       "      <td>2008</td>\n",
       "      <td>Gasoline</td>\n",
       "      <td>ACURA</td>\n",
       "      <td>Light</td>\n",
       "      <td>12</td>\n",
       "    </tr>\n",
       "    <tr>\n",
       "      <th>4</th>\n",
       "      <td>2021</td>\n",
       "      <td>90006</td>\n",
       "      <td>2008</td>\n",
       "      <td>Gasoline</td>\n",
       "      <td>ACURA</td>\n",
       "      <td>Light</td>\n",
       "      <td>15</td>\n",
       "    </tr>\n",
       "  </tbody>\n",
       "</table>\n",
       "</div>"
      ],
      "text/plain": [
       "   Year Zip Code Model Year      Fuel   Make   Duty  Vehicles\n",
       "0  2021    90001       2008  Gasoline  ACURA  Light        12\n",
       "1  2021    90003       2008  Gasoline  ACURA  Light        24\n",
       "2  2021    90004       2008  Gasoline  ACURA  Light        20\n",
       "3  2021    90005       2008  Gasoline  ACURA  Light        12\n",
       "4  2021    90006       2008  Gasoline  ACURA  Light        15"
      ]
     },
     "execution_count": 147,
     "metadata": {},
     "output_type": "execute_result"
    }
   ],
   "source": [
    "df_2021.rename(columns={'Date':'Year'}, inplace=True)\n",
    "df_2021.head()"
   ]
  },
  {
   "cell_type": "code",
   "execution_count": 148,
   "id": "ba00620d",
   "metadata": {},
   "outputs": [
    {
     "data": {
      "text/plain": [
       "array(['90001', '90003', '90004', ..., '98082', '98555', '99725'],\n",
       "      dtype=object)"
      ]
     },
     "execution_count": 148,
     "metadata": {},
     "output_type": "execute_result"
    }
   ],
   "source": [
    "df_2021['Zip Code'].unique()"
   ]
  },
  {
   "cell_type": "code",
   "execution_count": 149,
   "id": "6ec5a0bd",
   "metadata": {},
   "outputs": [
    {
     "data": {
      "text/plain": [
       "array(['Gasoline', 'Diesel and Diesel Hybrid', 'Flex-Fuel',\n",
       "       'Hybrid Gasoline', 'Natural Gas', 'Battery Electric', 'Other',\n",
       "       'Plug-in Hybrid', 'Hydrogen Fuel Cell'], dtype=object)"
      ]
     },
     "execution_count": 149,
     "metadata": {},
     "output_type": "execute_result"
    }
   ],
   "source": [
    "df_2021['Fuel'].unique()"
   ]
  },
  {
   "cell_type": "code",
   "execution_count": 150,
   "id": "43fa9f36",
   "metadata": {},
   "outputs": [
    {
     "data": {
      "text/plain": [
       "array([2008, 2009, 2010, 2011, 2012, 2013, 2014, 2015, 2016, 2017, 2018,\n",
       "       2019, '2019', '2020', '2021', '<2008'], dtype=object)"
      ]
     },
     "execution_count": 150,
     "metadata": {},
     "output_type": "execute_result"
    }
   ],
   "source": [
    "df_2021['Model Year'].unique()"
   ]
  },
  {
   "cell_type": "code",
   "execution_count": 151,
   "id": "f1e90928",
   "metadata": {},
   "outputs": [
    {
     "data": {
      "text/plain": [
       "array(['ACURA', 'ALLIANZ', 'AMERICAN LAFRANCE', 'AUDI', 'AUTOCAR', 'BMW',\n",
       "       'BUICK', 'CADILLAC', 'CATERPILLAR', 'CHEVROLET', 'CHRYSLER',\n",
       "       'DODGE', 'FORD', 'FREIGHTLINER', 'GMC', 'HINO', 'HME', 'HONDA',\n",
       "       'HUMMER', 'HYUNDAI', 'IC BUS, LLC', 'INFINITI', 'INTERNATIONAL',\n",
       "       'ISUZU', 'JEEP', 'KALMAR INDUSTRIES USA LLC', 'KENWORTH', 'KIA',\n",
       "       'LAND ROVER', 'LEXUS', 'LINCOLN', 'MAZDA', 'MERCEDES-BENZ',\n",
       "       'MERCURY', 'MINI', 'MITSUBISHI', 'NEWFLYER', 'NISSAN',\n",
       "       'NORTH AMERICAN BUS INDUSTRIES', 'OTHER/UNK', 'PETERBILT',\n",
       "       'PIERCE MANUFACTURING', 'PONTIAC', 'PORSCHE', 'ROADMASTER', 'SAAB',\n",
       "       'SATURN', 'SCION', 'SMART', 'SPARTAN', 'STERLING', 'SUBARU',\n",
       "       'SUZUKI', 'THOMAS BUILT BUSES', 'TOYOTA', 'VAN HOOL', 'VOLKSWAGEN',\n",
       "       'VOLVO', 'WORKHORSE', 'BLUE BIRD', 'CAPACITY OF TEXAS INC',\n",
       "       'CRANE CARRIER', 'GILLIG', 'JAGUAR', 'MOTOR COACH INDUSTRIES',\n",
       "       'SMITH', 'EVOBUS', 'KOVATCH MOBLIE EQUIPMENT CORP.', 'MACK', 'RAM',\n",
       "       'ROLLS-ROYCE', 'CAPACITY', 'FIAT', 'TESLA', 'VPG', 'BLUEBIRD',\n",
       "       'WESTERN STAR', 'ALEXANDER DENNIS', 'AM GENERAL', 'MASERATI',\n",
       "       'MITSUBISHI FUSO', 'PREVOST', 'NEW FLYER', 'PIERCE', 'ALFA ROMEO',\n",
       "       'GENESIS', 'IC BUS', 'KALMAR', 'BENTLEY', 'LAMBORGHINI',\n",
       "       'EMERGENCY ONE', 'FLEXIBLE', 'FLXIBLE TRANSIT COACHES', 'FWD',\n",
       "       'GEO', 'LODAL', 'MG', 'NEOPLAN', 'NOVABUS', 'OLDSMOBILE', 'ORION',\n",
       "       'OSHKOSH', 'PLYMOUTH', 'SPECIAL CONSTRUCTION', 'THOMAS BUS',\n",
       "       'TMC GREYHOUND', 'UD TRUCKS', 'WHITE', 'WHITE/GMC'], dtype=object)"
      ]
     },
     "execution_count": 151,
     "metadata": {},
     "output_type": "execute_result"
    }
   ],
   "source": [
    "df_2021['Make'].unique()"
   ]
  },
  {
   "cell_type": "code",
   "execution_count": 152,
   "id": "7330d80c",
   "metadata": {},
   "outputs": [
    {
     "data": {
      "text/plain": [
       "array(['Light', 'Heavy', 'Unk'], dtype=object)"
      ]
     },
     "execution_count": 152,
     "metadata": {},
     "output_type": "execute_result"
    }
   ],
   "source": [
    "df_2021['Duty'].unique()"
   ]
  },
  {
   "cell_type": "code",
   "execution_count": 153,
   "id": "8110bebb",
   "metadata": {},
   "outputs": [],
   "source": [
    "df_2021 = df_2021[df_2021['Zip Code'] != 'OOS']"
   ]
  },
  {
   "cell_type": "code",
   "execution_count": 154,
   "id": "a214cf1e",
   "metadata": {},
   "outputs": [],
   "source": [
    "df_2021 = df_2021[df_2021['Zip Code'] != 'Other']"
   ]
  },
  {
   "cell_type": "code",
   "execution_count": 155,
   "id": "637583d3",
   "metadata": {},
   "outputs": [],
   "source": [
    "df_2021 = df_2021[df_2021['Fuel'] != 'Other']"
   ]
  },
  {
   "cell_type": "code",
   "execution_count": 156,
   "id": "50805f95",
   "metadata": {},
   "outputs": [],
   "source": [
    "df_2021 = df_2021[df_2021['Make'] != 'OTHER/UNK']"
   ]
  },
  {
   "cell_type": "code",
   "execution_count": 157,
   "id": "6d14975c",
   "metadata": {},
   "outputs": [
    {
     "data": {
      "text/plain": [
       "array(['90001', '90003', '90004', ..., '97504', '97527', '97703'],\n",
       "      dtype=object)"
      ]
     },
     "execution_count": 157,
     "metadata": {},
     "output_type": "execute_result"
    }
   ],
   "source": [
    "df_2021['Zip Code'].unique()"
   ]
  },
  {
   "cell_type": "code",
   "execution_count": 158,
   "id": "1abd48bc",
   "metadata": {},
   "outputs": [
    {
     "data": {
      "text/plain": [
       "array(['Gasoline', 'Diesel and Diesel Hybrid', 'Flex-Fuel',\n",
       "       'Hybrid Gasoline', 'Natural Gas', 'Battery Electric',\n",
       "       'Plug-in Hybrid', 'Hydrogen Fuel Cell'], dtype=object)"
      ]
     },
     "execution_count": 158,
     "metadata": {},
     "output_type": "execute_result"
    }
   ],
   "source": [
    "df_2021['Fuel'].unique()"
   ]
  },
  {
   "cell_type": "code",
   "execution_count": 159,
   "id": "fbd5880b",
   "metadata": {},
   "outputs": [
    {
     "data": {
      "text/plain": [
       "array(['ACURA', 'ALLIANZ', 'AMERICAN LAFRANCE', 'AUDI', 'AUTOCAR', 'BMW',\n",
       "       'BUICK', 'CADILLAC', 'CATERPILLAR', 'CHEVROLET', 'CHRYSLER',\n",
       "       'DODGE', 'FORD', 'FREIGHTLINER', 'GMC', 'HME', 'HONDA', 'HUMMER',\n",
       "       'HYUNDAI', 'IC BUS, LLC', 'INFINITI', 'INTERNATIONAL', 'ISUZU',\n",
       "       'JEEP', 'KALMAR INDUSTRIES USA LLC', 'KENWORTH', 'KIA',\n",
       "       'LAND ROVER', 'LEXUS', 'LINCOLN', 'MAZDA', 'MERCEDES-BENZ',\n",
       "       'MERCURY', 'MINI', 'MITSUBISHI', 'NEWFLYER', 'NISSAN',\n",
       "       'NORTH AMERICAN BUS INDUSTRIES', 'PETERBILT',\n",
       "       'PIERCE MANUFACTURING', 'PONTIAC', 'SATURN', 'SCION', 'SMART',\n",
       "       'SPARTAN', 'STERLING', 'SUBARU', 'SUZUKI', 'THOMAS BUILT BUSES',\n",
       "       'TOYOTA', 'VAN HOOL', 'VOLKSWAGEN', 'VOLVO', 'WORKHORSE',\n",
       "       'BLUE BIRD', 'CAPACITY OF TEXAS INC', 'CRANE CARRIER', 'GILLIG',\n",
       "       'PORSCHE', 'MOTOR COACH INDUSTRIES', 'EVOBUS', 'JAGUAR',\n",
       "       'KOVATCH MOBLIE EQUIPMENT CORP.', 'MACK', 'RAM', 'ROLLS-ROYCE',\n",
       "       'FIAT', 'HINO', 'TESLA', 'VPG', 'BLUEBIRD', 'WESTERN STAR',\n",
       "       'ALEXANDER DENNIS', 'AM GENERAL', 'MASERATI', 'PREVOST',\n",
       "       'MITSUBISHI FUSO', 'NEW FLYER', 'PIERCE', 'CAPACITY', 'GENESIS',\n",
       "       'IC BUS', 'KALMAR', 'ALFA ROMEO', 'BENTLEY', 'LAMBORGHINI',\n",
       "       'EMERGENCY ONE', 'FLEXIBLE', 'FLXIBLE TRANSIT COACHES', 'FWD',\n",
       "       'GEO', 'LODAL', 'NEOPLAN', 'NOVABUS', 'OLDSMOBILE', 'ORION',\n",
       "       'OSHKOSH', 'PLYMOUTH', 'ROADMASTER', 'SAAB', 'THOMAS BUS',\n",
       "       'TMC GREYHOUND', 'UD TRUCKS', 'WHITE', 'WHITE/GMC'], dtype=object)"
      ]
     },
     "execution_count": 159,
     "metadata": {},
     "output_type": "execute_result"
    }
   ],
   "source": [
    "df_2021['Make'].unique()"
   ]
  },
  {
   "cell_type": "code",
   "execution_count": 160,
   "id": "1a0cd472",
   "metadata": {},
   "outputs": [
    {
     "name": "stderr",
     "output_type": "stream",
     "text": [
      "C:\\Users\\ourfa\\AppData\\Local\\Temp\\ipykernel_21952\\3955288949.py:2: DtypeWarning: Columns (1) have mixed types. Specify dtype option on import or set low_memory=False.\n",
      "  df_2022 = pd.read_csv(file)\n"
     ]
    }
   ],
   "source": [
    "file = Path('Resources/vehicle-fuel-type-count-by-zip-code-2022.csv')\n",
    "df_2022 = pd.read_csv(file)"
   ]
  },
  {
   "cell_type": "code",
   "execution_count": 161,
   "id": "3432cbd0",
   "metadata": {},
   "outputs": [
    {
     "data": {
      "text/html": [
       "<div>\n",
       "<style scoped>\n",
       "    .dataframe tbody tr th:only-of-type {\n",
       "        vertical-align: middle;\n",
       "    }\n",
       "\n",
       "    .dataframe tbody tr th {\n",
       "        vertical-align: top;\n",
       "    }\n",
       "\n",
       "    .dataframe thead th {\n",
       "        text-align: right;\n",
       "    }\n",
       "</style>\n",
       "<table border=\"1\" class=\"dataframe\">\n",
       "  <thead>\n",
       "    <tr style=\"text-align: right;\">\n",
       "      <th></th>\n",
       "      <th>Date</th>\n",
       "      <th>Zip Code</th>\n",
       "      <th>Model Year</th>\n",
       "      <th>Fuel</th>\n",
       "      <th>Make</th>\n",
       "      <th>Duty</th>\n",
       "      <th>Vehicles</th>\n",
       "    </tr>\n",
       "  </thead>\n",
       "  <tbody>\n",
       "    <tr>\n",
       "      <th>0</th>\n",
       "      <td>1/1/2022</td>\n",
       "      <td>90000</td>\n",
       "      <td>2020</td>\n",
       "      <td>Gasoline</td>\n",
       "      <td>OTHER/UNK</td>\n",
       "      <td>Light</td>\n",
       "      <td>1</td>\n",
       "    </tr>\n",
       "    <tr>\n",
       "      <th>1</th>\n",
       "      <td>1/1/2022</td>\n",
       "      <td>90000</td>\n",
       "      <td>2022</td>\n",
       "      <td>Gasoline</td>\n",
       "      <td>OTHER/UNK</td>\n",
       "      <td>Light</td>\n",
       "      <td>1</td>\n",
       "    </tr>\n",
       "    <tr>\n",
       "      <th>2</th>\n",
       "      <td>1/1/2022</td>\n",
       "      <td>90000</td>\n",
       "      <td>&lt;2008</td>\n",
       "      <td>Gasoline</td>\n",
       "      <td>OTHER/UNK</td>\n",
       "      <td>Heavy</td>\n",
       "      <td>22</td>\n",
       "    </tr>\n",
       "    <tr>\n",
       "      <th>3</th>\n",
       "      <td>1/1/2022</td>\n",
       "      <td>90000</td>\n",
       "      <td>&lt;2008</td>\n",
       "      <td>Gasoline</td>\n",
       "      <td>OTHER/UNK</td>\n",
       "      <td>Light</td>\n",
       "      <td>20</td>\n",
       "    </tr>\n",
       "    <tr>\n",
       "      <th>4</th>\n",
       "      <td>1/1/2022</td>\n",
       "      <td>90000</td>\n",
       "      <td>&lt;2008</td>\n",
       "      <td>Gasoline</td>\n",
       "      <td>OTHER/UNK</td>\n",
       "      <td>Unk</td>\n",
       "      <td>12</td>\n",
       "    </tr>\n",
       "  </tbody>\n",
       "</table>\n",
       "</div>"
      ],
      "text/plain": [
       "       Date Zip Code Model Year      Fuel       Make   Duty  Vehicles\n",
       "0  1/1/2022    90000       2020  Gasoline  OTHER/UNK  Light         1\n",
       "1  1/1/2022    90000       2022  Gasoline  OTHER/UNK  Light         1\n",
       "2  1/1/2022    90000      <2008  Gasoline  OTHER/UNK  Heavy        22\n",
       "3  1/1/2022    90000      <2008  Gasoline  OTHER/UNK  Light        20\n",
       "4  1/1/2022    90000      <2008  Gasoline  OTHER/UNK    Unk        12"
      ]
     },
     "execution_count": 161,
     "metadata": {},
     "output_type": "execute_result"
    }
   ],
   "source": [
    "df_2022.head()"
   ]
  },
  {
   "cell_type": "code",
   "execution_count": 162,
   "id": "4ce4c1ed",
   "metadata": {},
   "outputs": [
    {
     "data": {
      "text/html": [
       "<div>\n",
       "<style scoped>\n",
       "    .dataframe tbody tr th:only-of-type {\n",
       "        vertical-align: middle;\n",
       "    }\n",
       "\n",
       "    .dataframe tbody tr th {\n",
       "        vertical-align: top;\n",
       "    }\n",
       "\n",
       "    .dataframe thead th {\n",
       "        text-align: right;\n",
       "    }\n",
       "</style>\n",
       "<table border=\"1\" class=\"dataframe\">\n",
       "  <thead>\n",
       "    <tr style=\"text-align: right;\">\n",
       "      <th></th>\n",
       "      <th>Date</th>\n",
       "      <th>Zip Code</th>\n",
       "      <th>Model Year</th>\n",
       "      <th>Fuel</th>\n",
       "      <th>Make</th>\n",
       "      <th>Duty</th>\n",
       "      <th>Vehicles</th>\n",
       "    </tr>\n",
       "  </thead>\n",
       "  <tbody>\n",
       "    <tr>\n",
       "      <th>722460</th>\n",
       "      <td>1/1/2022</td>\n",
       "      <td>OOS</td>\n",
       "      <td>&lt;2008</td>\n",
       "      <td>Flex-Fuel</td>\n",
       "      <td>CHRYSLER</td>\n",
       "      <td>Light</td>\n",
       "      <td>24</td>\n",
       "    </tr>\n",
       "    <tr>\n",
       "      <th>722461</th>\n",
       "      <td>1/1/2022</td>\n",
       "      <td>OOS</td>\n",
       "      <td>&lt;2008</td>\n",
       "      <td>Flex-Fuel</td>\n",
       "      <td>CHRYSLER</td>\n",
       "      <td>Unk</td>\n",
       "      <td>26</td>\n",
       "    </tr>\n",
       "    <tr>\n",
       "      <th>722462</th>\n",
       "      <td>1/1/2022</td>\n",
       "      <td>OOS</td>\n",
       "      <td>&lt;2008</td>\n",
       "      <td>Flex-Fuel</td>\n",
       "      <td>MAZDA</td>\n",
       "      <td>Light</td>\n",
       "      <td>14</td>\n",
       "    </tr>\n",
       "    <tr>\n",
       "      <th>722463</th>\n",
       "      <td>1/1/2022</td>\n",
       "      <td>OOS</td>\n",
       "      <td>&lt;2008</td>\n",
       "      <td>Flex-Fuel</td>\n",
       "      <td>MERCURY</td>\n",
       "      <td>Light</td>\n",
       "      <td>20</td>\n",
       "    </tr>\n",
       "    <tr>\n",
       "      <th>722464</th>\n",
       "      <td>1/1/2022</td>\n",
       "      <td>OOS</td>\n",
       "      <td>&lt;2008</td>\n",
       "      <td>Battery Electric</td>\n",
       "      <td>OTHER/UNK</td>\n",
       "      <td>Light</td>\n",
       "      <td>2</td>\n",
       "    </tr>\n",
       "  </tbody>\n",
       "</table>\n",
       "</div>"
      ],
      "text/plain": [
       "            Date Zip Code Model Year              Fuel       Make   Duty  \\\n",
       "722460  1/1/2022      OOS      <2008         Flex-Fuel   CHRYSLER  Light   \n",
       "722461  1/1/2022      OOS      <2008         Flex-Fuel   CHRYSLER    Unk   \n",
       "722462  1/1/2022      OOS      <2008         Flex-Fuel      MAZDA  Light   \n",
       "722463  1/1/2022      OOS      <2008         Flex-Fuel    MERCURY  Light   \n",
       "722464  1/1/2022      OOS      <2008  Battery Electric  OTHER/UNK  Light   \n",
       "\n",
       "        Vehicles  \n",
       "722460        24  \n",
       "722461        26  \n",
       "722462        14  \n",
       "722463        20  \n",
       "722464         2  "
      ]
     },
     "execution_count": 162,
     "metadata": {},
     "output_type": "execute_result"
    }
   ],
   "source": [
    "df_2022.tail()"
   ]
  },
  {
   "cell_type": "code",
   "execution_count": 163,
   "id": "ba67f483",
   "metadata": {},
   "outputs": [
    {
     "data": {
      "text/html": [
       "<div>\n",
       "<style scoped>\n",
       "    .dataframe tbody tr th:only-of-type {\n",
       "        vertical-align: middle;\n",
       "    }\n",
       "\n",
       "    .dataframe tbody tr th {\n",
       "        vertical-align: top;\n",
       "    }\n",
       "\n",
       "    .dataframe thead th {\n",
       "        text-align: right;\n",
       "    }\n",
       "</style>\n",
       "<table border=\"1\" class=\"dataframe\">\n",
       "  <thead>\n",
       "    <tr style=\"text-align: right;\">\n",
       "      <th></th>\n",
       "      <th>Date</th>\n",
       "      <th>Zip Code</th>\n",
       "      <th>Model Year</th>\n",
       "      <th>Fuel</th>\n",
       "      <th>Make</th>\n",
       "      <th>Duty</th>\n",
       "      <th>Vehicles</th>\n",
       "    </tr>\n",
       "  </thead>\n",
       "  <tbody>\n",
       "    <tr>\n",
       "      <th>0</th>\n",
       "      <td>2022</td>\n",
       "      <td>90000</td>\n",
       "      <td>2020</td>\n",
       "      <td>Gasoline</td>\n",
       "      <td>OTHER/UNK</td>\n",
       "      <td>Light</td>\n",
       "      <td>1</td>\n",
       "    </tr>\n",
       "    <tr>\n",
       "      <th>1</th>\n",
       "      <td>2022</td>\n",
       "      <td>90000</td>\n",
       "      <td>2022</td>\n",
       "      <td>Gasoline</td>\n",
       "      <td>OTHER/UNK</td>\n",
       "      <td>Light</td>\n",
       "      <td>1</td>\n",
       "    </tr>\n",
       "    <tr>\n",
       "      <th>2</th>\n",
       "      <td>2022</td>\n",
       "      <td>90000</td>\n",
       "      <td>&lt;2008</td>\n",
       "      <td>Gasoline</td>\n",
       "      <td>OTHER/UNK</td>\n",
       "      <td>Heavy</td>\n",
       "      <td>22</td>\n",
       "    </tr>\n",
       "    <tr>\n",
       "      <th>3</th>\n",
       "      <td>2022</td>\n",
       "      <td>90000</td>\n",
       "      <td>&lt;2008</td>\n",
       "      <td>Gasoline</td>\n",
       "      <td>OTHER/UNK</td>\n",
       "      <td>Light</td>\n",
       "      <td>20</td>\n",
       "    </tr>\n",
       "    <tr>\n",
       "      <th>4</th>\n",
       "      <td>2022</td>\n",
       "      <td>90000</td>\n",
       "      <td>&lt;2008</td>\n",
       "      <td>Gasoline</td>\n",
       "      <td>OTHER/UNK</td>\n",
       "      <td>Unk</td>\n",
       "      <td>12</td>\n",
       "    </tr>\n",
       "  </tbody>\n",
       "</table>\n",
       "</div>"
      ],
      "text/plain": [
       "   Date Zip Code Model Year      Fuel       Make   Duty  Vehicles\n",
       "0  2022    90000       2020  Gasoline  OTHER/UNK  Light         1\n",
       "1  2022    90000       2022  Gasoline  OTHER/UNK  Light         1\n",
       "2  2022    90000      <2008  Gasoline  OTHER/UNK  Heavy        22\n",
       "3  2022    90000      <2008  Gasoline  OTHER/UNK  Light        20\n",
       "4  2022    90000      <2008  Gasoline  OTHER/UNK    Unk        12"
      ]
     },
     "execution_count": 163,
     "metadata": {},
     "output_type": "execute_result"
    }
   ],
   "source": [
    "df_2022['Date'] = 2022\n",
    "df_2022.head()"
   ]
  },
  {
   "cell_type": "code",
   "execution_count": 164,
   "id": "ebb762fd",
   "metadata": {},
   "outputs": [
    {
     "data": {
      "text/html": [
       "<div>\n",
       "<style scoped>\n",
       "    .dataframe tbody tr th:only-of-type {\n",
       "        vertical-align: middle;\n",
       "    }\n",
       "\n",
       "    .dataframe tbody tr th {\n",
       "        vertical-align: top;\n",
       "    }\n",
       "\n",
       "    .dataframe thead th {\n",
       "        text-align: right;\n",
       "    }\n",
       "</style>\n",
       "<table border=\"1\" class=\"dataframe\">\n",
       "  <thead>\n",
       "    <tr style=\"text-align: right;\">\n",
       "      <th></th>\n",
       "      <th>Date</th>\n",
       "      <th>Zip Code</th>\n",
       "      <th>Model Year</th>\n",
       "      <th>Fuel</th>\n",
       "      <th>Make</th>\n",
       "      <th>Duty</th>\n",
       "      <th>Vehicles</th>\n",
       "    </tr>\n",
       "  </thead>\n",
       "  <tbody>\n",
       "    <tr>\n",
       "      <th>722460</th>\n",
       "      <td>2022</td>\n",
       "      <td>OOS</td>\n",
       "      <td>&lt;2008</td>\n",
       "      <td>Flex-Fuel</td>\n",
       "      <td>CHRYSLER</td>\n",
       "      <td>Light</td>\n",
       "      <td>24</td>\n",
       "    </tr>\n",
       "    <tr>\n",
       "      <th>722461</th>\n",
       "      <td>2022</td>\n",
       "      <td>OOS</td>\n",
       "      <td>&lt;2008</td>\n",
       "      <td>Flex-Fuel</td>\n",
       "      <td>CHRYSLER</td>\n",
       "      <td>Unk</td>\n",
       "      <td>26</td>\n",
       "    </tr>\n",
       "    <tr>\n",
       "      <th>722462</th>\n",
       "      <td>2022</td>\n",
       "      <td>OOS</td>\n",
       "      <td>&lt;2008</td>\n",
       "      <td>Flex-Fuel</td>\n",
       "      <td>MAZDA</td>\n",
       "      <td>Light</td>\n",
       "      <td>14</td>\n",
       "    </tr>\n",
       "    <tr>\n",
       "      <th>722463</th>\n",
       "      <td>2022</td>\n",
       "      <td>OOS</td>\n",
       "      <td>&lt;2008</td>\n",
       "      <td>Flex-Fuel</td>\n",
       "      <td>MERCURY</td>\n",
       "      <td>Light</td>\n",
       "      <td>20</td>\n",
       "    </tr>\n",
       "    <tr>\n",
       "      <th>722464</th>\n",
       "      <td>2022</td>\n",
       "      <td>OOS</td>\n",
       "      <td>&lt;2008</td>\n",
       "      <td>Battery Electric</td>\n",
       "      <td>OTHER/UNK</td>\n",
       "      <td>Light</td>\n",
       "      <td>2</td>\n",
       "    </tr>\n",
       "  </tbody>\n",
       "</table>\n",
       "</div>"
      ],
      "text/plain": [
       "        Date Zip Code Model Year              Fuel       Make   Duty  Vehicles\n",
       "722460  2022      OOS      <2008         Flex-Fuel   CHRYSLER  Light        24\n",
       "722461  2022      OOS      <2008         Flex-Fuel   CHRYSLER    Unk        26\n",
       "722462  2022      OOS      <2008         Flex-Fuel      MAZDA  Light        14\n",
       "722463  2022      OOS      <2008         Flex-Fuel    MERCURY  Light        20\n",
       "722464  2022      OOS      <2008  Battery Electric  OTHER/UNK  Light         2"
      ]
     },
     "execution_count": 164,
     "metadata": {},
     "output_type": "execute_result"
    }
   ],
   "source": [
    "df_2022.tail()"
   ]
  },
  {
   "cell_type": "code",
   "execution_count": 165,
   "id": "ace41ce9",
   "metadata": {},
   "outputs": [
    {
     "data": {
      "text/html": [
       "<div>\n",
       "<style scoped>\n",
       "    .dataframe tbody tr th:only-of-type {\n",
       "        vertical-align: middle;\n",
       "    }\n",
       "\n",
       "    .dataframe tbody tr th {\n",
       "        vertical-align: top;\n",
       "    }\n",
       "\n",
       "    .dataframe thead th {\n",
       "        text-align: right;\n",
       "    }\n",
       "</style>\n",
       "<table border=\"1\" class=\"dataframe\">\n",
       "  <thead>\n",
       "    <tr style=\"text-align: right;\">\n",
       "      <th></th>\n",
       "      <th>Year</th>\n",
       "      <th>Zip Code</th>\n",
       "      <th>Model Year</th>\n",
       "      <th>Fuel</th>\n",
       "      <th>Make</th>\n",
       "      <th>Duty</th>\n",
       "      <th>Vehicles</th>\n",
       "    </tr>\n",
       "  </thead>\n",
       "  <tbody>\n",
       "    <tr>\n",
       "      <th>0</th>\n",
       "      <td>2022</td>\n",
       "      <td>90000</td>\n",
       "      <td>2020</td>\n",
       "      <td>Gasoline</td>\n",
       "      <td>OTHER/UNK</td>\n",
       "      <td>Light</td>\n",
       "      <td>1</td>\n",
       "    </tr>\n",
       "    <tr>\n",
       "      <th>1</th>\n",
       "      <td>2022</td>\n",
       "      <td>90000</td>\n",
       "      <td>2022</td>\n",
       "      <td>Gasoline</td>\n",
       "      <td>OTHER/UNK</td>\n",
       "      <td>Light</td>\n",
       "      <td>1</td>\n",
       "    </tr>\n",
       "    <tr>\n",
       "      <th>2</th>\n",
       "      <td>2022</td>\n",
       "      <td>90000</td>\n",
       "      <td>&lt;2008</td>\n",
       "      <td>Gasoline</td>\n",
       "      <td>OTHER/UNK</td>\n",
       "      <td>Heavy</td>\n",
       "      <td>22</td>\n",
       "    </tr>\n",
       "    <tr>\n",
       "      <th>3</th>\n",
       "      <td>2022</td>\n",
       "      <td>90000</td>\n",
       "      <td>&lt;2008</td>\n",
       "      <td>Gasoline</td>\n",
       "      <td>OTHER/UNK</td>\n",
       "      <td>Light</td>\n",
       "      <td>20</td>\n",
       "    </tr>\n",
       "    <tr>\n",
       "      <th>4</th>\n",
       "      <td>2022</td>\n",
       "      <td>90000</td>\n",
       "      <td>&lt;2008</td>\n",
       "      <td>Gasoline</td>\n",
       "      <td>OTHER/UNK</td>\n",
       "      <td>Unk</td>\n",
       "      <td>12</td>\n",
       "    </tr>\n",
       "  </tbody>\n",
       "</table>\n",
       "</div>"
      ],
      "text/plain": [
       "   Year Zip Code Model Year      Fuel       Make   Duty  Vehicles\n",
       "0  2022    90000       2020  Gasoline  OTHER/UNK  Light         1\n",
       "1  2022    90000       2022  Gasoline  OTHER/UNK  Light         1\n",
       "2  2022    90000      <2008  Gasoline  OTHER/UNK  Heavy        22\n",
       "3  2022    90000      <2008  Gasoline  OTHER/UNK  Light        20\n",
       "4  2022    90000      <2008  Gasoline  OTHER/UNK    Unk        12"
      ]
     },
     "execution_count": 165,
     "metadata": {},
     "output_type": "execute_result"
    }
   ],
   "source": [
    "df_2022.rename(columns={'Date':'Year'}, inplace=True)\n",
    "df_2022.head()"
   ]
  },
  {
   "cell_type": "code",
   "execution_count": 166,
   "id": "325d6eae",
   "metadata": {},
   "outputs": [
    {
     "data": {
      "text/plain": [
       "array([90000, 90001, 90002, ..., '99933', '99999', 'OOS'], dtype=object)"
      ]
     },
     "execution_count": 166,
     "metadata": {},
     "output_type": "execute_result"
    }
   ],
   "source": [
    "df_2022['Zip Code'].unique()"
   ]
  },
  {
   "cell_type": "code",
   "execution_count": 167,
   "id": "bce021e3",
   "metadata": {},
   "outputs": [
    {
     "data": {
      "text/plain": [
       "array(['2020', '2022', '<2008', '2008', '2009', '2010', '2011', '2012',\n",
       "       '2013', '2014', '2015', '2016', '2017', '2018', '2019', '2021',\n",
       "       '2023'], dtype=object)"
      ]
     },
     "execution_count": 167,
     "metadata": {},
     "output_type": "execute_result"
    }
   ],
   "source": [
    "df_2022['Model Year'].unique()"
   ]
  },
  {
   "cell_type": "code",
   "execution_count": 168,
   "id": "aaf241c2",
   "metadata": {},
   "outputs": [
    {
     "data": {
      "text/plain": [
       "array(['Gasoline', 'Other', 'Diesel and Diesel Hybrid', 'Natural Gas',\n",
       "       'Hybrid Gasoline', 'Flex-Fuel', 'Battery Electric',\n",
       "       'Plug-in Hybrid', 'Hydrogen Fuel Cell'], dtype=object)"
      ]
     },
     "execution_count": 168,
     "metadata": {},
     "output_type": "execute_result"
    }
   ],
   "source": [
    "df_2022['Fuel'].unique()"
   ]
  },
  {
   "cell_type": "code",
   "execution_count": 169,
   "id": "f24405f2",
   "metadata": {},
   "outputs": [
    {
     "data": {
      "text/plain": [
       "array(['OTHER/UNK', 'FORD', 'PLYMOUTH', 'GMC', 'CHEVROLET', 'WHITE',\n",
       "       'INFINITI', 'MERCEDES-BENZ', 'VOLKSWAGEN', 'DODGE', 'JEEP',\n",
       "       'HONDA', 'CHRYSLER', 'CADILLAC', 'NISSAN', 'TOYOTA', 'MAZDA',\n",
       "       'BMW', 'HYUNDAI', 'LEXUS', 'KIA', 'SCION', 'FREIGHTLINER', 'ACURA',\n",
       "       'MITSUBISHI', 'RAM', 'AUDI', 'MINI', 'BUICK', 'SUBARU', 'TESLA',\n",
       "       'MERCURY', 'LINCOLN', 'PORSCHE', 'VOLVO', 'HUMMER', 'PONTIAC',\n",
       "       'OLDSMOBILE', 'SATURN', 'ISUZU', 'JAGUAR', 'SUZUKI', 'LAND ROVER',\n",
       "       'GEO', 'FIAT', 'GENESIS', 'SAAB', 'HINO', 'LAMBORGHINI',\n",
       "       'ROLLS-ROYCE', 'WORKHORSE', 'INTERNATIONAL', 'AMERICAN LAFRANCE',\n",
       "       'NORTH AMERICAN BUS INDUSTRIES', 'PETERBILT',\n",
       "       'MOTOR COACH INDUSTRIES', 'NEWFLYER', 'KENWORTH', 'BLUE BIRD',\n",
       "       'GILLIG', 'AUTOCAR', 'PIERCE', 'IC BUS', 'NEW FLYER', 'PROTERRA',\n",
       "       'NEOPLAN', 'OSHKOSH', 'ORION', 'FWD', 'FLXIBLE TRANSIT COACHES',\n",
       "       'MACK', 'TMC GREYHOUND', 'STERLING', 'WHITE/GMC',\n",
       "       'PIERCE MANUFACTURING', 'ALFA ROMEO', 'KALMAR', 'PREVOST',\n",
       "       'MASERATI', 'BENTLEY', 'FERRARI', 'KOVATCH MOBLIE EQUIPMENT CORP.',\n",
       "       'THOMAS BUILT BUSES', 'THOMAS BUS', 'IC BUS LLC', 'SMART',\n",
       "       'ASTON MARTIN', 'MITSUBISHI FUSO', 'NOVABUS',\n",
       "       'KALMAR INDUSTRIES USA LLC', 'CRANE CARRIER', 'ROADMASTER',\n",
       "       'ALEXANDER DENNIS', 'CATERPILLAR', 'SPARTAN', 'VPG', 'AM GENERAL',\n",
       "       'WESTERN STAR', 'FLEXIBLE', 'VAN HOOL', 'EMERGENCY ONE',\n",
       "       'CAPACITY OF TEXAS INC', 'BLUEBIRD', 'EVOBUS', 'LODAL', 'HME',\n",
       "       'ALLIANZ', 'MG', 'CAPACITY', 'POLESTAR', 'SPECIAL CONSTRUCTION',\n",
       "       'LOTUS', 'COUNTRY COACH'], dtype=object)"
      ]
     },
     "execution_count": 169,
     "metadata": {},
     "output_type": "execute_result"
    }
   ],
   "source": [
    "df_2022['Make'].unique()"
   ]
  },
  {
   "cell_type": "code",
   "execution_count": 170,
   "id": "99f63b44",
   "metadata": {},
   "outputs": [
    {
     "data": {
      "text/plain": [
       "array(['Light', 'Heavy', 'Unk'], dtype=object)"
      ]
     },
     "execution_count": 170,
     "metadata": {},
     "output_type": "execute_result"
    }
   ],
   "source": [
    "df_2022['Duty'].unique()"
   ]
  },
  {
   "cell_type": "code",
   "execution_count": 171,
   "id": "ef714315",
   "metadata": {},
   "outputs": [],
   "source": [
    "df_2022 = df_2022[df_2022['Zip Code'] != 'OOS']"
   ]
  },
  {
   "cell_type": "code",
   "execution_count": 172,
   "id": "4083c5bc",
   "metadata": {},
   "outputs": [],
   "source": [
    "df_2022 = df_2022[df_2022['Zip Code'] != 'Other']"
   ]
  },
  {
   "cell_type": "code",
   "execution_count": 173,
   "id": "3a8678b6",
   "metadata": {},
   "outputs": [],
   "source": [
    "df_2022 = df_2022[df_2022['Fuel'] != 'Other']"
   ]
  },
  {
   "cell_type": "code",
   "execution_count": 174,
   "id": "e7338fdf",
   "metadata": {},
   "outputs": [],
   "source": [
    "df_2022 = df_2022[df_2022['Make'] != 'OTHER/UNK']"
   ]
  },
  {
   "cell_type": "code",
   "execution_count": 175,
   "id": "b437a61f",
   "metadata": {},
   "outputs": [],
   "source": [
    "df_2022 = df_2022[df_2022['Duty'] != 'Unk']"
   ]
  },
  {
   "cell_type": "code",
   "execution_count": 176,
   "id": "0ca51fe3",
   "metadata": {},
   "outputs": [
    {
     "data": {
      "text/plain": [
       "array([90000, 90001, 90002, ..., '98661', '99301', '99503'], dtype=object)"
      ]
     },
     "execution_count": 176,
     "metadata": {},
     "output_type": "execute_result"
    }
   ],
   "source": [
    "df_2022['Zip Code'].unique()"
   ]
  },
  {
   "cell_type": "code",
   "execution_count": 177,
   "id": "f5817d32",
   "metadata": {},
   "outputs": [
    {
     "data": {
      "text/plain": [
       "array(['Gasoline', 'Diesel and Diesel Hybrid', 'Hybrid Gasoline',\n",
       "       'Flex-Fuel', 'Battery Electric', 'Plug-in Hybrid', 'Natural Gas',\n",
       "       'Hydrogen Fuel Cell'], dtype=object)"
      ]
     },
     "execution_count": 177,
     "metadata": {},
     "output_type": "execute_result"
    }
   ],
   "source": [
    "df_2022['Fuel'].unique()"
   ]
  },
  {
   "cell_type": "code",
   "execution_count": 178,
   "id": "1ecd79d8",
   "metadata": {},
   "outputs": [
    {
     "data": {
      "text/plain": [
       "array(['FORD', 'PLYMOUTH', 'GMC', 'CHEVROLET', 'WHITE', 'INFINITI',\n",
       "       'MERCEDES-BENZ', 'VOLKSWAGEN', 'DODGE', 'JEEP', 'HONDA',\n",
       "       'CHRYSLER', 'CADILLAC', 'NISSAN', 'TOYOTA', 'MAZDA', 'BMW',\n",
       "       'HYUNDAI', 'LEXUS', 'KIA', 'SCION', 'FREIGHTLINER', 'ACURA',\n",
       "       'MITSUBISHI', 'RAM', 'AUDI', 'MINI', 'BUICK', 'SUBARU', 'TESLA',\n",
       "       'MERCURY', 'LINCOLN', 'PORSCHE', 'VOLVO', 'HUMMER', 'PONTIAC',\n",
       "       'OLDSMOBILE', 'SATURN', 'ISUZU', 'JAGUAR', 'SUZUKI', 'LAND ROVER',\n",
       "       'GEO', 'FIAT', 'GENESIS', 'SAAB', 'HINO', 'LAMBORGHINI',\n",
       "       'ROLLS-ROYCE', 'WORKHORSE', 'INTERNATIONAL', 'AMERICAN LAFRANCE',\n",
       "       'NORTH AMERICAN BUS INDUSTRIES', 'PETERBILT',\n",
       "       'MOTOR COACH INDUSTRIES', 'NEWFLYER', 'KENWORTH', 'GILLIG',\n",
       "       'BLUE BIRD', 'AUTOCAR', 'PIERCE', 'NEW FLYER', 'PROTERRA',\n",
       "       'IC BUS', 'NEOPLAN', 'OSHKOSH', 'ORION', 'FWD',\n",
       "       'FLXIBLE TRANSIT COACHES', 'MACK', 'TMC GREYHOUND', 'STERLING',\n",
       "       'WHITE/GMC', 'PIERCE MANUFACTURING', 'ALFA ROMEO', 'KALMAR',\n",
       "       'PREVOST', 'MASERATI', 'BENTLEY', 'FERRARI',\n",
       "       'KOVATCH MOBLIE EQUIPMENT CORP.', 'THOMAS BUILT BUSES',\n",
       "       'THOMAS BUS', 'IC BUS LLC', 'SMART', 'ASTON MARTIN',\n",
       "       'MITSUBISHI FUSO', 'NOVABUS', 'KALMAR INDUSTRIES USA LLC',\n",
       "       'CRANE CARRIER', 'ROADMASTER', 'ALEXANDER DENNIS', 'CATERPILLAR',\n",
       "       'SPARTAN', 'VPG', 'AM GENERAL', 'WESTERN STAR', 'FLEXIBLE',\n",
       "       'VAN HOOL', 'EMERGENCY ONE', 'CAPACITY OF TEXAS INC', 'BLUEBIRD',\n",
       "       'EVOBUS', 'LODAL', 'HME', 'ALLIANZ', 'MG', 'CAPACITY'],\n",
       "      dtype=object)"
      ]
     },
     "execution_count": 178,
     "metadata": {},
     "output_type": "execute_result"
    }
   ],
   "source": [
    "df_2022['Make'].unique()"
   ]
  },
  {
   "cell_type": "code",
   "execution_count": 179,
   "id": "002a9f0d",
   "metadata": {},
   "outputs": [
    {
     "data": {
      "text/plain": [
       "array(['Light', 'Heavy'], dtype=object)"
      ]
     },
     "execution_count": 179,
     "metadata": {},
     "output_type": "execute_result"
    }
   ],
   "source": [
    "df_2022['Duty'].unique()"
   ]
  },
  {
   "cell_type": "code",
   "execution_count": 180,
   "id": "1010c4e0",
   "metadata": {},
   "outputs": [
    {
     "name": "stderr",
     "output_type": "stream",
     "text": [
      "C:\\Users\\ourfa\\AppData\\Local\\Temp\\ipykernel_21952\\4136347513.py:2: DtypeWarning: Columns (1) have mixed types. Specify dtype option on import or set low_memory=False.\n",
      "  df_2023 = pd.read_csv(file)\n"
     ]
    }
   ],
   "source": [
    "file = Path('Resources/vehicle-fuel-type-count-by-zip-code-2023.csv')\n",
    "df_2023 = pd.read_csv(file)"
   ]
  },
  {
   "cell_type": "code",
   "execution_count": 181,
   "id": "82752f4c",
   "metadata": {},
   "outputs": [
    {
     "data": {
      "text/html": [
       "<div>\n",
       "<style scoped>\n",
       "    .dataframe tbody tr th:only-of-type {\n",
       "        vertical-align: middle;\n",
       "    }\n",
       "\n",
       "    .dataframe tbody tr th {\n",
       "        vertical-align: top;\n",
       "    }\n",
       "\n",
       "    .dataframe thead th {\n",
       "        text-align: right;\n",
       "    }\n",
       "</style>\n",
       "<table border=\"1\" class=\"dataframe\">\n",
       "  <thead>\n",
       "    <tr style=\"text-align: right;\">\n",
       "      <th></th>\n",
       "      <th>Date</th>\n",
       "      <th>Zip Code</th>\n",
       "      <th>Model Year</th>\n",
       "      <th>Fuel</th>\n",
       "      <th>Make</th>\n",
       "      <th>Duty</th>\n",
       "      <th>Vehicles</th>\n",
       "    </tr>\n",
       "  </thead>\n",
       "  <tbody>\n",
       "    <tr>\n",
       "      <th>0</th>\n",
       "      <td>12/31/2022</td>\n",
       "      <td>90000</td>\n",
       "      <td>2010</td>\n",
       "      <td>Gasoline</td>\n",
       "      <td>OTHER/UNK</td>\n",
       "      <td>Light</td>\n",
       "      <td>1</td>\n",
       "    </tr>\n",
       "    <tr>\n",
       "      <th>1</th>\n",
       "      <td>12/31/2022</td>\n",
       "      <td>90000</td>\n",
       "      <td>2012</td>\n",
       "      <td>Hybrid Gasoline</td>\n",
       "      <td>OTHER/UNK</td>\n",
       "      <td>Light</td>\n",
       "      <td>1</td>\n",
       "    </tr>\n",
       "    <tr>\n",
       "      <th>2</th>\n",
       "      <td>12/31/2022</td>\n",
       "      <td>90000</td>\n",
       "      <td>2013</td>\n",
       "      <td>Gasoline</td>\n",
       "      <td>OTHER/UNK</td>\n",
       "      <td>Light</td>\n",
       "      <td>1</td>\n",
       "    </tr>\n",
       "    <tr>\n",
       "      <th>3</th>\n",
       "      <td>12/31/2022</td>\n",
       "      <td>90000</td>\n",
       "      <td>&lt;2009</td>\n",
       "      <td>Gasoline</td>\n",
       "      <td>OTHER/UNK</td>\n",
       "      <td>Heavy</td>\n",
       "      <td>19</td>\n",
       "    </tr>\n",
       "    <tr>\n",
       "      <th>4</th>\n",
       "      <td>12/31/2022</td>\n",
       "      <td>90000</td>\n",
       "      <td>&lt;2009</td>\n",
       "      <td>Gasoline</td>\n",
       "      <td>OTHER/UNK</td>\n",
       "      <td>Light</td>\n",
       "      <td>16</td>\n",
       "    </tr>\n",
       "  </tbody>\n",
       "</table>\n",
       "</div>"
      ],
      "text/plain": [
       "         Date Zip Code Model Year             Fuel       Make   Duty  Vehicles\n",
       "0  12/31/2022    90000       2010         Gasoline  OTHER/UNK  Light         1\n",
       "1  12/31/2022    90000       2012  Hybrid Gasoline  OTHER/UNK  Light         1\n",
       "2  12/31/2022    90000       2013         Gasoline  OTHER/UNK  Light         1\n",
       "3  12/31/2022    90000      <2009         Gasoline  OTHER/UNK  Heavy        19\n",
       "4  12/31/2022    90000      <2009         Gasoline  OTHER/UNK  Light        16"
      ]
     },
     "execution_count": 181,
     "metadata": {},
     "output_type": "execute_result"
    }
   ],
   "source": [
    "df_2023.head()"
   ]
  },
  {
   "cell_type": "code",
   "execution_count": 182,
   "id": "05adc150",
   "metadata": {},
   "outputs": [
    {
     "data": {
      "text/html": [
       "<div>\n",
       "<style scoped>\n",
       "    .dataframe tbody tr th:only-of-type {\n",
       "        vertical-align: middle;\n",
       "    }\n",
       "\n",
       "    .dataframe tbody tr th {\n",
       "        vertical-align: top;\n",
       "    }\n",
       "\n",
       "    .dataframe thead th {\n",
       "        text-align: right;\n",
       "    }\n",
       "</style>\n",
       "<table border=\"1\" class=\"dataframe\">\n",
       "  <thead>\n",
       "    <tr style=\"text-align: right;\">\n",
       "      <th></th>\n",
       "      <th>Date</th>\n",
       "      <th>Zip Code</th>\n",
       "      <th>Model Year</th>\n",
       "      <th>Fuel</th>\n",
       "      <th>Make</th>\n",
       "      <th>Duty</th>\n",
       "      <th>Vehicles</th>\n",
       "    </tr>\n",
       "  </thead>\n",
       "  <tbody>\n",
       "    <tr>\n",
       "      <th>767049</th>\n",
       "      <td>12/31/2022</td>\n",
       "      <td>OOS</td>\n",
       "      <td>&lt;2009</td>\n",
       "      <td>Natural Gas</td>\n",
       "      <td>FREIGHTLINER</td>\n",
       "      <td>Heavy</td>\n",
       "      <td>20</td>\n",
       "    </tr>\n",
       "    <tr>\n",
       "      <th>767050</th>\n",
       "      <td>12/31/2022</td>\n",
       "      <td>OOS</td>\n",
       "      <td>&lt;2009</td>\n",
       "      <td>Battery Electric</td>\n",
       "      <td>OTHER/UNK</td>\n",
       "      <td>Light</td>\n",
       "      <td>2</td>\n",
       "    </tr>\n",
       "    <tr>\n",
       "      <th>767051</th>\n",
       "      <td>12/31/2022</td>\n",
       "      <td>OOS</td>\n",
       "      <td>&lt;2009</td>\n",
       "      <td>Other</td>\n",
       "      <td>OTHER/UNK</td>\n",
       "      <td>Heavy</td>\n",
       "      <td>2</td>\n",
       "    </tr>\n",
       "    <tr>\n",
       "      <th>767052</th>\n",
       "      <td>12/31/2022</td>\n",
       "      <td>OOS</td>\n",
       "      <td>&lt;2009</td>\n",
       "      <td>Other</td>\n",
       "      <td>OTHER/UNK</td>\n",
       "      <td>Light</td>\n",
       "      <td>8</td>\n",
       "    </tr>\n",
       "    <tr>\n",
       "      <th>767053</th>\n",
       "      <td>12/31/2022</td>\n",
       "      <td>OOS</td>\n",
       "      <td>&lt;2009</td>\n",
       "      <td>Other</td>\n",
       "      <td>OTHER/UNK</td>\n",
       "      <td>Unk</td>\n",
       "      <td>4</td>\n",
       "    </tr>\n",
       "  </tbody>\n",
       "</table>\n",
       "</div>"
      ],
      "text/plain": [
       "              Date Zip Code Model Year              Fuel          Make   Duty  \\\n",
       "767049  12/31/2022      OOS      <2009       Natural Gas  FREIGHTLINER  Heavy   \n",
       "767050  12/31/2022      OOS      <2009  Battery Electric     OTHER/UNK  Light   \n",
       "767051  12/31/2022      OOS      <2009             Other     OTHER/UNK  Heavy   \n",
       "767052  12/31/2022      OOS      <2009             Other     OTHER/UNK  Light   \n",
       "767053  12/31/2022      OOS      <2009             Other     OTHER/UNK    Unk   \n",
       "\n",
       "        Vehicles  \n",
       "767049        20  \n",
       "767050         2  \n",
       "767051         2  \n",
       "767052         8  \n",
       "767053         4  "
      ]
     },
     "execution_count": 182,
     "metadata": {},
     "output_type": "execute_result"
    }
   ],
   "source": [
    "df_2023.tail()"
   ]
  },
  {
   "cell_type": "code",
   "execution_count": 183,
   "id": "6ea73421",
   "metadata": {},
   "outputs": [
    {
     "data": {
      "text/html": [
       "<div>\n",
       "<style scoped>\n",
       "    .dataframe tbody tr th:only-of-type {\n",
       "        vertical-align: middle;\n",
       "    }\n",
       "\n",
       "    .dataframe tbody tr th {\n",
       "        vertical-align: top;\n",
       "    }\n",
       "\n",
       "    .dataframe thead th {\n",
       "        text-align: right;\n",
       "    }\n",
       "</style>\n",
       "<table border=\"1\" class=\"dataframe\">\n",
       "  <thead>\n",
       "    <tr style=\"text-align: right;\">\n",
       "      <th></th>\n",
       "      <th>Date</th>\n",
       "      <th>Zip Code</th>\n",
       "      <th>Model Year</th>\n",
       "      <th>Fuel</th>\n",
       "      <th>Make</th>\n",
       "      <th>Duty</th>\n",
       "      <th>Vehicles</th>\n",
       "    </tr>\n",
       "  </thead>\n",
       "  <tbody>\n",
       "    <tr>\n",
       "      <th>0</th>\n",
       "      <td>2023</td>\n",
       "      <td>90000</td>\n",
       "      <td>2010</td>\n",
       "      <td>Gasoline</td>\n",
       "      <td>OTHER/UNK</td>\n",
       "      <td>Light</td>\n",
       "      <td>1</td>\n",
       "    </tr>\n",
       "    <tr>\n",
       "      <th>1</th>\n",
       "      <td>2023</td>\n",
       "      <td>90000</td>\n",
       "      <td>2012</td>\n",
       "      <td>Hybrid Gasoline</td>\n",
       "      <td>OTHER/UNK</td>\n",
       "      <td>Light</td>\n",
       "      <td>1</td>\n",
       "    </tr>\n",
       "    <tr>\n",
       "      <th>2</th>\n",
       "      <td>2023</td>\n",
       "      <td>90000</td>\n",
       "      <td>2013</td>\n",
       "      <td>Gasoline</td>\n",
       "      <td>OTHER/UNK</td>\n",
       "      <td>Light</td>\n",
       "      <td>1</td>\n",
       "    </tr>\n",
       "    <tr>\n",
       "      <th>3</th>\n",
       "      <td>2023</td>\n",
       "      <td>90000</td>\n",
       "      <td>&lt;2009</td>\n",
       "      <td>Gasoline</td>\n",
       "      <td>OTHER/UNK</td>\n",
       "      <td>Heavy</td>\n",
       "      <td>19</td>\n",
       "    </tr>\n",
       "    <tr>\n",
       "      <th>4</th>\n",
       "      <td>2023</td>\n",
       "      <td>90000</td>\n",
       "      <td>&lt;2009</td>\n",
       "      <td>Gasoline</td>\n",
       "      <td>OTHER/UNK</td>\n",
       "      <td>Light</td>\n",
       "      <td>16</td>\n",
       "    </tr>\n",
       "  </tbody>\n",
       "</table>\n",
       "</div>"
      ],
      "text/plain": [
       "   Date Zip Code Model Year             Fuel       Make   Duty  Vehicles\n",
       "0  2023    90000       2010         Gasoline  OTHER/UNK  Light         1\n",
       "1  2023    90000       2012  Hybrid Gasoline  OTHER/UNK  Light         1\n",
       "2  2023    90000       2013         Gasoline  OTHER/UNK  Light         1\n",
       "3  2023    90000      <2009         Gasoline  OTHER/UNK  Heavy        19\n",
       "4  2023    90000      <2009         Gasoline  OTHER/UNK  Light        16"
      ]
     },
     "execution_count": 183,
     "metadata": {},
     "output_type": "execute_result"
    }
   ],
   "source": [
    "df_2023['Date'] = 2023\n",
    "df_2023.head()"
   ]
  },
  {
   "cell_type": "code",
   "execution_count": 184,
   "id": "ace208ee",
   "metadata": {},
   "outputs": [
    {
     "data": {
      "text/html": [
       "<div>\n",
       "<style scoped>\n",
       "    .dataframe tbody tr th:only-of-type {\n",
       "        vertical-align: middle;\n",
       "    }\n",
       "\n",
       "    .dataframe tbody tr th {\n",
       "        vertical-align: top;\n",
       "    }\n",
       "\n",
       "    .dataframe thead th {\n",
       "        text-align: right;\n",
       "    }\n",
       "</style>\n",
       "<table border=\"1\" class=\"dataframe\">\n",
       "  <thead>\n",
       "    <tr style=\"text-align: right;\">\n",
       "      <th></th>\n",
       "      <th>Date</th>\n",
       "      <th>Zip Code</th>\n",
       "      <th>Model Year</th>\n",
       "      <th>Fuel</th>\n",
       "      <th>Make</th>\n",
       "      <th>Duty</th>\n",
       "      <th>Vehicles</th>\n",
       "    </tr>\n",
       "  </thead>\n",
       "  <tbody>\n",
       "    <tr>\n",
       "      <th>767049</th>\n",
       "      <td>2023</td>\n",
       "      <td>OOS</td>\n",
       "      <td>&lt;2009</td>\n",
       "      <td>Natural Gas</td>\n",
       "      <td>FREIGHTLINER</td>\n",
       "      <td>Heavy</td>\n",
       "      <td>20</td>\n",
       "    </tr>\n",
       "    <tr>\n",
       "      <th>767050</th>\n",
       "      <td>2023</td>\n",
       "      <td>OOS</td>\n",
       "      <td>&lt;2009</td>\n",
       "      <td>Battery Electric</td>\n",
       "      <td>OTHER/UNK</td>\n",
       "      <td>Light</td>\n",
       "      <td>2</td>\n",
       "    </tr>\n",
       "    <tr>\n",
       "      <th>767051</th>\n",
       "      <td>2023</td>\n",
       "      <td>OOS</td>\n",
       "      <td>&lt;2009</td>\n",
       "      <td>Other</td>\n",
       "      <td>OTHER/UNK</td>\n",
       "      <td>Heavy</td>\n",
       "      <td>2</td>\n",
       "    </tr>\n",
       "    <tr>\n",
       "      <th>767052</th>\n",
       "      <td>2023</td>\n",
       "      <td>OOS</td>\n",
       "      <td>&lt;2009</td>\n",
       "      <td>Other</td>\n",
       "      <td>OTHER/UNK</td>\n",
       "      <td>Light</td>\n",
       "      <td>8</td>\n",
       "    </tr>\n",
       "    <tr>\n",
       "      <th>767053</th>\n",
       "      <td>2023</td>\n",
       "      <td>OOS</td>\n",
       "      <td>&lt;2009</td>\n",
       "      <td>Other</td>\n",
       "      <td>OTHER/UNK</td>\n",
       "      <td>Unk</td>\n",
       "      <td>4</td>\n",
       "    </tr>\n",
       "  </tbody>\n",
       "</table>\n",
       "</div>"
      ],
      "text/plain": [
       "        Date Zip Code Model Year              Fuel          Make   Duty  \\\n",
       "767049  2023      OOS      <2009       Natural Gas  FREIGHTLINER  Heavy   \n",
       "767050  2023      OOS      <2009  Battery Electric     OTHER/UNK  Light   \n",
       "767051  2023      OOS      <2009             Other     OTHER/UNK  Heavy   \n",
       "767052  2023      OOS      <2009             Other     OTHER/UNK  Light   \n",
       "767053  2023      OOS      <2009             Other     OTHER/UNK    Unk   \n",
       "\n",
       "        Vehicles  \n",
       "767049        20  \n",
       "767050         2  \n",
       "767051         2  \n",
       "767052         8  \n",
       "767053         4  "
      ]
     },
     "execution_count": 184,
     "metadata": {},
     "output_type": "execute_result"
    }
   ],
   "source": [
    "df_2023.tail()"
   ]
  },
  {
   "cell_type": "code",
   "execution_count": 185,
   "id": "76ef3e35",
   "metadata": {},
   "outputs": [
    {
     "data": {
      "text/html": [
       "<div>\n",
       "<style scoped>\n",
       "    .dataframe tbody tr th:only-of-type {\n",
       "        vertical-align: middle;\n",
       "    }\n",
       "\n",
       "    .dataframe tbody tr th {\n",
       "        vertical-align: top;\n",
       "    }\n",
       "\n",
       "    .dataframe thead th {\n",
       "        text-align: right;\n",
       "    }\n",
       "</style>\n",
       "<table border=\"1\" class=\"dataframe\">\n",
       "  <thead>\n",
       "    <tr style=\"text-align: right;\">\n",
       "      <th></th>\n",
       "      <th>Year</th>\n",
       "      <th>Zip Code</th>\n",
       "      <th>Model Year</th>\n",
       "      <th>Fuel</th>\n",
       "      <th>Make</th>\n",
       "      <th>Duty</th>\n",
       "      <th>Vehicles</th>\n",
       "    </tr>\n",
       "  </thead>\n",
       "  <tbody>\n",
       "    <tr>\n",
       "      <th>0</th>\n",
       "      <td>2023</td>\n",
       "      <td>90000</td>\n",
       "      <td>2010</td>\n",
       "      <td>Gasoline</td>\n",
       "      <td>OTHER/UNK</td>\n",
       "      <td>Light</td>\n",
       "      <td>1</td>\n",
       "    </tr>\n",
       "    <tr>\n",
       "      <th>1</th>\n",
       "      <td>2023</td>\n",
       "      <td>90000</td>\n",
       "      <td>2012</td>\n",
       "      <td>Hybrid Gasoline</td>\n",
       "      <td>OTHER/UNK</td>\n",
       "      <td>Light</td>\n",
       "      <td>1</td>\n",
       "    </tr>\n",
       "    <tr>\n",
       "      <th>2</th>\n",
       "      <td>2023</td>\n",
       "      <td>90000</td>\n",
       "      <td>2013</td>\n",
       "      <td>Gasoline</td>\n",
       "      <td>OTHER/UNK</td>\n",
       "      <td>Light</td>\n",
       "      <td>1</td>\n",
       "    </tr>\n",
       "    <tr>\n",
       "      <th>3</th>\n",
       "      <td>2023</td>\n",
       "      <td>90000</td>\n",
       "      <td>&lt;2009</td>\n",
       "      <td>Gasoline</td>\n",
       "      <td>OTHER/UNK</td>\n",
       "      <td>Heavy</td>\n",
       "      <td>19</td>\n",
       "    </tr>\n",
       "    <tr>\n",
       "      <th>4</th>\n",
       "      <td>2023</td>\n",
       "      <td>90000</td>\n",
       "      <td>&lt;2009</td>\n",
       "      <td>Gasoline</td>\n",
       "      <td>OTHER/UNK</td>\n",
       "      <td>Light</td>\n",
       "      <td>16</td>\n",
       "    </tr>\n",
       "  </tbody>\n",
       "</table>\n",
       "</div>"
      ],
      "text/plain": [
       "   Year Zip Code Model Year             Fuel       Make   Duty  Vehicles\n",
       "0  2023    90000       2010         Gasoline  OTHER/UNK  Light         1\n",
       "1  2023    90000       2012  Hybrid Gasoline  OTHER/UNK  Light         1\n",
       "2  2023    90000       2013         Gasoline  OTHER/UNK  Light         1\n",
       "3  2023    90000      <2009         Gasoline  OTHER/UNK  Heavy        19\n",
       "4  2023    90000      <2009         Gasoline  OTHER/UNK  Light        16"
      ]
     },
     "execution_count": 185,
     "metadata": {},
     "output_type": "execute_result"
    }
   ],
   "source": [
    "df_2023.rename(columns={'Date':'Year'}, inplace=True)\n",
    "df_2023.head()"
   ]
  },
  {
   "cell_type": "code",
   "execution_count": 186,
   "id": "3678f258",
   "metadata": {},
   "outputs": [
    {
     "data": {
      "text/plain": [
       "array([90000, 90001, 90002, ..., '99990', '99999', 'OOS'], dtype=object)"
      ]
     },
     "execution_count": 186,
     "metadata": {},
     "output_type": "execute_result"
    }
   ],
   "source": [
    "df_2023['Zip Code'].unique()"
   ]
  },
  {
   "cell_type": "code",
   "execution_count": 187,
   "id": "defbd139",
   "metadata": {},
   "outputs": [
    {
     "data": {
      "text/plain": [
       "array(['2010', '2012', '2013', '<2009', '2008', '2009', '2011', '2014',\n",
       "       '2015', '2016', '2017', '2018', '2019', '2020', '2021', '2022',\n",
       "       '2023'], dtype=object)"
      ]
     },
     "execution_count": 187,
     "metadata": {},
     "output_type": "execute_result"
    }
   ],
   "source": [
    "df_2023['Model Year'].unique()"
   ]
  },
  {
   "cell_type": "code",
   "execution_count": 188,
   "id": "ad2953fc",
   "metadata": {},
   "outputs": [
    {
     "data": {
      "text/plain": [
       "array(['Gasoline', 'Hybrid Gasoline', 'Unk', 'Diesel and Diesel Hybrid',\n",
       "       'Flex-Fuel', 'Natural Gas', 'Battery Electric', 'Plug-in Hybrid',\n",
       "       'Other', 'Hydrogen Fuel Cell'], dtype=object)"
      ]
     },
     "execution_count": 188,
     "metadata": {},
     "output_type": "execute_result"
    }
   ],
   "source": [
    "df_2023['Fuel'].unique()"
   ]
  },
  {
   "cell_type": "code",
   "execution_count": 189,
   "id": "342a5da1",
   "metadata": {},
   "outputs": [
    {
     "data": {
      "text/plain": [
       "array(['OTHER/UNK', 'FORD', 'PLYMOUTH', 'CHEVROLET', 'Unk', 'GMC',\n",
       "       'WHITE', 'INFINITI', 'MERCEDES-BENZ', 'VOLKSWAGEN', 'DODGE',\n",
       "       'JEEP', 'ACURA', 'HONDA', 'CHRYSLER', 'CADILLAC', 'NISSAN',\n",
       "       'TOYOTA', 'MAZDA', 'BMW', 'HYUNDAI', 'LEXUS', 'KIA', 'SCION',\n",
       "       'PONTIAC', 'FREIGHTLINER', 'RAM', 'AUDI', 'MINI', 'HINO',\n",
       "       'MITSUBISHI', 'INTERNATIONAL', 'SUBARU', 'BUICK', 'TESLA',\n",
       "       'MERCURY', 'LINCOLN', 'VOLVO', 'HUMMER', 'OLDSMOBILE', 'SATURN',\n",
       "       'ISUZU', 'SUZUKI', 'LAND ROVER', 'PORSCHE', 'UNKNOWN', 'JAGUAR',\n",
       "       'FIAT', 'GENESIS', 'SAAB', 'ALFA ROMEO', 'GEO', 'WORKHORSE',\n",
       "       'AMERICAN LAFRANCE', 'NORTH AMERICAN BUS INDUSTRIES', 'PETERBILT',\n",
       "       'MOTOR COACH INDUSTRIES', 'EL DORADO', 'NEW FLYER', 'KENWORTH',\n",
       "       'GILLIG', 'BLUE BIRD', 'AUTOCAR', 'PIERCE', 'IC BUS', 'PROTERRA',\n",
       "       'FWD', 'NEOPLAN', 'OSHKOSH', 'ORION', 'SEAGRAVE', 'STERLING',\n",
       "       'FLXIBLE TRANSIT COACHES', 'MACK', 'TMC', 'WHITE/GMC', 'KALMAR',\n",
       "       'PREVOST', 'MASERATI', 'BENTLEY', 'ROLLS-ROYCE', 'FERRARI',\n",
       "       'ARBOC', 'POLESTAR', 'KOVATCH MOBLIE EQUIPMENT CORP.', 'RIVIAN',\n",
       "       'THOMAS BUS', 'ASTON MARTIN', 'IC BUS LLC', 'KOVATCH', 'SMART',\n",
       "       'LAMBORGHINI', 'GREENPOWER MOTOR', 'CRANE CARRIER',\n",
       "       'BYD COACH AND BUS', 'ALEXANDER DENNIS', 'ROADMASTER',\n",
       "       'CATERPILLAR', 'ORANGE EV', 'VPG', 'AM GENERAL', 'WESTERN STAR',\n",
       "       'NORTH AMERICAN', 'SPARTAN', 'MOTOR COACH IND', 'EMERGENCY ONE',\n",
       "       'LUCID', 'CAPACITY', 'TICO', 'BLUEBIRD', 'VAN HOOL',\n",
       "       'MAN TRUCK AND BUS CORPORATION', 'CRUISE', 'TROLLEY', 'LODAL',\n",
       "       'HME', 'ALLIANZ', 'GLOBAL ENVIRONMENTAL', 'XOS', 'BRIGHTDROP',\n",
       "       'LOTUS', 'SPECIAL CONSTRUCTION', 'MG', 'COUNTRY COACH'],\n",
       "      dtype=object)"
      ]
     },
     "execution_count": 189,
     "metadata": {},
     "output_type": "execute_result"
    }
   ],
   "source": [
    "df_2023['Make'].unique()"
   ]
  },
  {
   "cell_type": "code",
   "execution_count": 190,
   "id": "bab1b714",
   "metadata": {},
   "outputs": [
    {
     "data": {
      "text/plain": [
       "array(['Light', 'Heavy', 'Unk'], dtype=object)"
      ]
     },
     "execution_count": 190,
     "metadata": {},
     "output_type": "execute_result"
    }
   ],
   "source": [
    "df_2023['Duty'].unique()"
   ]
  },
  {
   "cell_type": "code",
   "execution_count": 191,
   "id": "9eb0fd7f",
   "metadata": {},
   "outputs": [],
   "source": [
    "df_2023=df_2023[df_2023['Zip Code']!= 'OOS']\n",
    "df_2023 = df_2023[df_2023['Zip Code'] != 'Other']\n",
    "df_2023 = df_2023[df_2023['Fuel'] != 'Other']\n",
    "df_2023 = df_2023[df_2023['Make'] != 'OTHER/UNK']\n",
    "df_2023 = df_2023[df_2023['Duty'] != 'Unk']"
   ]
  },
  {
   "cell_type": "code",
   "execution_count": 192,
   "id": "a1312163",
   "metadata": {},
   "outputs": [
    {
     "data": {
      "text/plain": [
       "array([90000, 90001, 90002, ..., '98373', '98661', '99503'], dtype=object)"
      ]
     },
     "execution_count": 192,
     "metadata": {},
     "output_type": "execute_result"
    }
   ],
   "source": [
    "df_2023['Zip Code'].unique()"
   ]
  },
  {
   "cell_type": "code",
   "execution_count": 193,
   "id": "1631dfeb",
   "metadata": {},
   "outputs": [
    {
     "data": {
      "text/plain": [
       "array(['Gasoline', 'Diesel and Diesel Hybrid', 'Hybrid Gasoline',\n",
       "       'Flex-Fuel', 'Battery Electric', 'Plug-in Hybrid', 'Natural Gas',\n",
       "       'Hydrogen Fuel Cell'], dtype=object)"
      ]
     },
     "execution_count": 193,
     "metadata": {},
     "output_type": "execute_result"
    }
   ],
   "source": [
    "df_2023['Fuel'].unique()"
   ]
  },
  {
   "cell_type": "code",
   "execution_count": 194,
   "id": "0d6a11c4",
   "metadata": {},
   "outputs": [
    {
     "data": {
      "text/plain": [
       "array(['FORD', 'PLYMOUTH', 'CHEVROLET', 'WHITE', 'GMC', 'INFINITI',\n",
       "       'MERCEDES-BENZ', 'VOLKSWAGEN', 'DODGE', 'JEEP', 'ACURA', 'HONDA',\n",
       "       'CHRYSLER', 'CADILLAC', 'NISSAN', 'TOYOTA', 'MAZDA', 'BMW',\n",
       "       'HYUNDAI', 'LEXUS', 'KIA', 'SCION', 'PONTIAC', 'FREIGHTLINER',\n",
       "       'RAM', 'AUDI', 'MINI', 'HINO', 'MITSUBISHI', 'INTERNATIONAL',\n",
       "       'SUBARU', 'BUICK', 'TESLA', 'MERCURY', 'LINCOLN', 'VOLVO',\n",
       "       'HUMMER', 'OLDSMOBILE', 'SATURN', 'ISUZU', 'SUZUKI', 'LAND ROVER',\n",
       "       'PORSCHE', 'JAGUAR', 'FIAT', 'GENESIS', 'SAAB', 'ALFA ROMEO',\n",
       "       'GEO', 'WORKHORSE', 'AMERICAN LAFRANCE',\n",
       "       'NORTH AMERICAN BUS INDUSTRIES', 'PETERBILT',\n",
       "       'MOTOR COACH INDUSTRIES', 'EL DORADO', 'NEW FLYER', 'KENWORTH',\n",
       "       'GILLIG', 'BLUE BIRD', 'AUTOCAR', 'PIERCE', 'PROTERRA', 'IC BUS',\n",
       "       'FWD', 'NEOPLAN', 'OSHKOSH', 'ORION', 'SEAGRAVE', 'STERLING',\n",
       "       'FLXIBLE TRANSIT COACHES', 'MACK', 'TMC', 'WHITE/GMC', 'KALMAR',\n",
       "       'PREVOST', 'MASERATI', 'BENTLEY', 'ROLLS-ROYCE', 'FERRARI',\n",
       "       'ARBOC', 'POLESTAR', 'KOVATCH MOBLIE EQUIPMENT CORP.', 'RIVIAN',\n",
       "       'THOMAS BUS', 'ASTON MARTIN', 'IC BUS LLC', 'KOVATCH', 'SMART',\n",
       "       'LAMBORGHINI', 'GREENPOWER MOTOR', 'CRANE CARRIER',\n",
       "       'BYD COACH AND BUS', 'ALEXANDER DENNIS', 'ROADMASTER',\n",
       "       'CATERPILLAR', 'ORANGE EV', 'VPG', 'AM GENERAL', 'WESTERN STAR',\n",
       "       'NORTH AMERICAN', 'SPARTAN', 'MOTOR COACH IND', 'EMERGENCY ONE',\n",
       "       'LUCID', 'CAPACITY', 'TICO', 'BLUEBIRD', 'VAN HOOL',\n",
       "       'MAN TRUCK AND BUS CORPORATION', 'CRUISE', 'TROLLEY', 'LODAL',\n",
       "       'HME', 'ALLIANZ', 'GLOBAL ENVIRONMENTAL'], dtype=object)"
      ]
     },
     "execution_count": 194,
     "metadata": {},
     "output_type": "execute_result"
    }
   ],
   "source": [
    "df_2023['Make'].unique()"
   ]
  },
  {
   "cell_type": "code",
   "execution_count": 195,
   "id": "b03ba4e5",
   "metadata": {},
   "outputs": [
    {
     "data": {
      "text/plain": [
       "array(['Light', 'Heavy'], dtype=object)"
      ]
     },
     "execution_count": 195,
     "metadata": {},
     "output_type": "execute_result"
    }
   ],
   "source": [
    "df_2023['Duty'].unique()"
   ]
  },
  {
   "cell_type": "code",
   "execution_count": 196,
   "id": "ea002faf",
   "metadata": {},
   "outputs": [],
   "source": [
    "dfs = [df_2019, df_2020, df_2021, df_2022, df_2023]\n",
    "combined_df = pd.concat(dfs,ignore_index=True)"
   ]
  },
  {
   "cell_type": "code",
   "execution_count": 197,
   "id": "dc7686cd",
   "metadata": {},
   "outputs": [
    {
     "data": {
      "text/html": [
       "<div>\n",
       "<style scoped>\n",
       "    .dataframe tbody tr th:only-of-type {\n",
       "        vertical-align: middle;\n",
       "    }\n",
       "\n",
       "    .dataframe tbody tr th {\n",
       "        vertical-align: top;\n",
       "    }\n",
       "\n",
       "    .dataframe thead th {\n",
       "        text-align: right;\n",
       "    }\n",
       "</style>\n",
       "<table border=\"1\" class=\"dataframe\">\n",
       "  <thead>\n",
       "    <tr style=\"text-align: right;\">\n",
       "      <th></th>\n",
       "      <th>Year</th>\n",
       "      <th>Zip Code</th>\n",
       "      <th>Model Year</th>\n",
       "      <th>Fuel</th>\n",
       "      <th>Make</th>\n",
       "      <th>Duty</th>\n",
       "      <th>Vehicles</th>\n",
       "    </tr>\n",
       "  </thead>\n",
       "  <tbody>\n",
       "    <tr>\n",
       "      <th>0</th>\n",
       "      <td>2019</td>\n",
       "      <td>90000</td>\n",
       "      <td>&lt;2006</td>\n",
       "      <td>Diesel and Diesel Hybrid</td>\n",
       "      <td>WHITE</td>\n",
       "      <td>Heavy</td>\n",
       "      <td>19</td>\n",
       "    </tr>\n",
       "    <tr>\n",
       "      <th>1</th>\n",
       "      <td>2019</td>\n",
       "      <td>90000</td>\n",
       "      <td>&lt;2006</td>\n",
       "      <td>Gasoline</td>\n",
       "      <td>CHEVROLET</td>\n",
       "      <td>Light</td>\n",
       "      <td>33</td>\n",
       "    </tr>\n",
       "    <tr>\n",
       "      <th>2</th>\n",
       "      <td>2019</td>\n",
       "      <td>90000</td>\n",
       "      <td>&lt;2006</td>\n",
       "      <td>Gasoline</td>\n",
       "      <td>DODGE</td>\n",
       "      <td>Light</td>\n",
       "      <td>11</td>\n",
       "    </tr>\n",
       "    <tr>\n",
       "      <th>3</th>\n",
       "      <td>2019</td>\n",
       "      <td>90000</td>\n",
       "      <td>&lt;2006</td>\n",
       "      <td>Gasoline</td>\n",
       "      <td>FORD</td>\n",
       "      <td>Light</td>\n",
       "      <td>28</td>\n",
       "    </tr>\n",
       "    <tr>\n",
       "      <th>4</th>\n",
       "      <td>2019</td>\n",
       "      <td>90000</td>\n",
       "      <td>&lt;2006</td>\n",
       "      <td>Gasoline</td>\n",
       "      <td>GMC</td>\n",
       "      <td>Light</td>\n",
       "      <td>19</td>\n",
       "    </tr>\n",
       "  </tbody>\n",
       "</table>\n",
       "</div>"
      ],
      "text/plain": [
       "   Year Zip Code Model Year                      Fuel       Make   Duty  \\\n",
       "0  2019    90000      <2006  Diesel and Diesel Hybrid      WHITE  Heavy   \n",
       "1  2019    90000      <2006                  Gasoline  CHEVROLET  Light   \n",
       "2  2019    90000      <2006                  Gasoline      DODGE  Light   \n",
       "3  2019    90000      <2006                  Gasoline       FORD  Light   \n",
       "4  2019    90000      <2006                  Gasoline        GMC  Light   \n",
       "\n",
       "   Vehicles  \n",
       "0        19  \n",
       "1        33  \n",
       "2        11  \n",
       "3        28  \n",
       "4        19  "
      ]
     },
     "execution_count": 197,
     "metadata": {},
     "output_type": "execute_result"
    }
   ],
   "source": [
    "combined_df.head()"
   ]
  },
  {
   "cell_type": "code",
   "execution_count": 198,
   "id": "96ee2f6f",
   "metadata": {},
   "outputs": [
    {
     "data": {
      "text/html": [
       "<div>\n",
       "<style scoped>\n",
       "    .dataframe tbody tr th:only-of-type {\n",
       "        vertical-align: middle;\n",
       "    }\n",
       "\n",
       "    .dataframe tbody tr th {\n",
       "        vertical-align: top;\n",
       "    }\n",
       "\n",
       "    .dataframe thead th {\n",
       "        text-align: right;\n",
       "    }\n",
       "</style>\n",
       "<table border=\"1\" class=\"dataframe\">\n",
       "  <thead>\n",
       "    <tr style=\"text-align: right;\">\n",
       "      <th></th>\n",
       "      <th>Year</th>\n",
       "      <th>Zip Code</th>\n",
       "      <th>Model Year</th>\n",
       "      <th>Fuel</th>\n",
       "      <th>Make</th>\n",
       "      <th>Duty</th>\n",
       "      <th>Vehicles</th>\n",
       "    </tr>\n",
       "  </thead>\n",
       "  <tbody>\n",
       "    <tr>\n",
       "      <th>1979315</th>\n",
       "      <td>2023</td>\n",
       "      <td>98661</td>\n",
       "      <td>2016</td>\n",
       "      <td>Flex-Fuel</td>\n",
       "      <td>FORD</td>\n",
       "      <td>Light</td>\n",
       "      <td>13</td>\n",
       "    </tr>\n",
       "    <tr>\n",
       "      <th>1979316</th>\n",
       "      <td>2023</td>\n",
       "      <td>98661</td>\n",
       "      <td>2017</td>\n",
       "      <td>Gasoline</td>\n",
       "      <td>FORD</td>\n",
       "      <td>Light</td>\n",
       "      <td>11</td>\n",
       "    </tr>\n",
       "    <tr>\n",
       "      <th>1979317</th>\n",
       "      <td>2023</td>\n",
       "      <td>98661</td>\n",
       "      <td>2017</td>\n",
       "      <td>Flex-Fuel</td>\n",
       "      <td>FORD</td>\n",
       "      <td>Light</td>\n",
       "      <td>28</td>\n",
       "    </tr>\n",
       "    <tr>\n",
       "      <th>1979318</th>\n",
       "      <td>2023</td>\n",
       "      <td>98661</td>\n",
       "      <td>2018</td>\n",
       "      <td>Gasoline</td>\n",
       "      <td>FORD</td>\n",
       "      <td>Light</td>\n",
       "      <td>18</td>\n",
       "    </tr>\n",
       "    <tr>\n",
       "      <th>1979319</th>\n",
       "      <td>2023</td>\n",
       "      <td>99503</td>\n",
       "      <td>2016</td>\n",
       "      <td>Gasoline</td>\n",
       "      <td>FORD</td>\n",
       "      <td>Light</td>\n",
       "      <td>24</td>\n",
       "    </tr>\n",
       "  </tbody>\n",
       "</table>\n",
       "</div>"
      ],
      "text/plain": [
       "         Year Zip Code Model Year       Fuel  Make   Duty  Vehicles\n",
       "1979315  2023    98661       2016  Flex-Fuel  FORD  Light        13\n",
       "1979316  2023    98661       2017   Gasoline  FORD  Light        11\n",
       "1979317  2023    98661       2017  Flex-Fuel  FORD  Light        28\n",
       "1979318  2023    98661       2018   Gasoline  FORD  Light        18\n",
       "1979319  2023    99503       2016   Gasoline  FORD  Light        24"
      ]
     },
     "execution_count": 198,
     "metadata": {},
     "output_type": "execute_result"
    }
   ],
   "source": [
    "combined_df.tail()"
   ]
  },
  {
   "cell_type": "code",
   "execution_count": 199,
   "id": "c753e20d",
   "metadata": {},
   "outputs": [],
   "source": [
    "file_path = 'cleaned_combined_fuel_types.csv'\n",
    "combined_df.to_csv(file_path, index=False)"
   ]
  },
  {
   "cell_type": "markdown",
   "id": "847e83d6",
   "metadata": {},
   "source": [
    "# Creating Database"
   ]
  },
  {
   "cell_type": "code",
   "execution_count": 200,
   "id": "1962e7af-4b69-4ca0-9b36-64120239fcb9",
   "metadata": {},
   "outputs": [
    {
     "name": "stdout",
     "output_type": "stream",
     "text": [
      "DataFrame 1:\n",
      "   Year  Gasoline All Grades  Diesel  Unnamed: 3  Unnamed: 4  Unnamed: 5  \\\n",
      "0  2023                4.879   5.357         NaN         NaN         NaN   \n",
      "1  2022                5.406   6.028         NaN         NaN         NaN   \n",
      "2  2021                4.100   4.164         NaN         NaN         NaN   \n",
      "3  2020                3.132   3.377         NaN         NaN         NaN   \n",
      "4  2019                3.677   3.920         NaN         NaN         NaN   \n",
      "\n",
      "   Unnamed: 6  Unnamed: 7  Unnamed: 8  Unnamed: 9  Unnamed: 10  Unnamed: 11  \n",
      "0         NaN         NaN         NaN         NaN          NaN          NaN  \n",
      "1         NaN         NaN         NaN         NaN          NaN          NaN  \n",
      "2         NaN         NaN         NaN         NaN          NaN          NaN  \n",
      "3         NaN         NaN         NaN         NaN          NaN          NaN  \n",
      "4         NaN         NaN         NaN         NaN          NaN          NaN  \n",
      "\n",
      "DataFrame 2:\n",
      "      County  Public Level 1  Shared Private Level 1  Public Level 2  \\\n",
      "0    Alameda               4                      72            1625   \n",
      "1     Alpine               0                       0              10   \n",
      "2     Amador               0                       0              26   \n",
      "3      Butte               6                       0              63   \n",
      "4  Calaveras               0                       2               9   \n",
      "\n",
      "   Shared Private Level 2  Public DC Fast  Shared Private DC Fast  Total  \\\n",
      "0                    2488             398                      37   4624   \n",
      "1                       0               0                       0     10   \n",
      "2                       0               8                       0     34   \n",
      "3                      55              25                       0    149   \n",
      "4                       0              12                       0     23   \n",
      "\n",
      "       Date Unnamed: 9                          Unnamed: 10 Unnamed: 11  \\\n",
      "0  9/1/2023        big                                 1500         NaN   \n",
      "1  9/1/2023     small'                                  NaN         NaN   \n",
      "2  9/1/2023     small'                                  NaN         NaN   \n",
      "3  9/1/2023     small'  find all total chargers for alameda         NaN   \n",
      "4  9/1/2023     small'                              Alameda  total cars   \n",
      "\n",
      "  Unnamed: 12  Unnamed: 13 Unnamed: 14 Unnamed: 15  Unnamed: 16  Unnamed: 17  \n",
      "0         NaN          NaN         NaN         NaN          NaN          NaN  \n",
      "1         NaN          NaN         NaN     Alameda          4.0         72.0  \n",
      "2         NaN          NaN         NaN      Alpine          0.0          0.0  \n",
      "3         NaN          NaN         NaN      Amador          0.0          0.0  \n",
      "4       51881          NaN      sumifs       Butte          6.0          0.0  \n",
      "DataFrame 3:\n",
      "   Year  Zip Code Model Year                      Fuel       Make   Duty  \\\n",
      "0  2019     90000      <2006  Diesel and Diesel Hybrid      WHITE  Heavy   \n",
      "1  2019     90000      <2006                  Gasoline  CHEVROLET  Light   \n",
      "2  2019     90000      <2006                  Gasoline      DODGE  Light   \n",
      "3  2019     90000      <2006                  Gasoline       FORD  Light   \n",
      "4  2019     90000      <2006                  Gasoline        GMC  Light   \n",
      "\n",
      "   Vehicles  \n",
      "0        19  \n",
      "1        33  \n",
      "2        11  \n",
      "3        28  \n",
      "4        19  \n"
     ]
    },
    {
     "name": "stderr",
     "output_type": "stream",
     "text": [
      "C:\\Users\\ourfa\\AppData\\Local\\Temp\\ipykernel_21952\\58687873.py:9: DtypeWarning: Columns (2) have mixed types. Specify dtype option on import or set low_memory=False.\n",
      "  df3 = pd.read_csv(csv_file3)\n"
     ]
    }
   ],
   "source": [
    "# File paths\n",
    "csv_file1 = 'Resources\\California_All_Grades_All_Formulations_Retail_Gasoline_Prices.csv'\n",
    "csv_file2 = 'Resources\\Chargers_California_new.csv'\n",
    "csv_file3 = 'Resources\\cleaned_combined_fuel_types.csv'\n",
    "\n",
    "# Read CSV files into pandas DataFrames\n",
    "df1 = pd.read_csv(csv_file1)\n",
    "df2 = pd.read_csv(csv_file2)\n",
    "df3 = pd.read_csv(csv_file3)\n",
    "\n",
    "# Display the first few rows of each DataFrame\n",
    "print(\"DataFrame 1:\")\n",
    "print(df1.head())\n",
    "\n",
    "print(\"\\nDataFrame 2:\")\n",
    "print(df2.head())\n",
    "\n",
    "print(\"DataFrame 3:\")\n",
    "print(df3.head())"
   ]
  },
  {
   "cell_type": "code",
   "execution_count": 201,
   "id": "e4893f98-ab15-4e39-bf79-5768cd104edc",
   "metadata": {},
   "outputs": [
    {
     "name": "stdout",
     "output_type": "stream",
     "text": [
      "DataFrame 2 after dropping unnamed columns and rows with null values:\n",
      "      County  Public Level 1  Shared Private Level 1  Public Level 2  \\\n",
      "0    Alameda               4                      72            1625   \n",
      "1     Alpine               0                       0              10   \n",
      "2     Amador               0                       0              26   \n",
      "3      Butte               6                       0              63   \n",
      "4  Calaveras               0                       2               9   \n",
      "\n",
      "   Shared Private Level 2  Public DC Fast  Shared Private DC Fast  Total  \\\n",
      "0                    2488             398                      37   4624   \n",
      "1                       0               0                       0     10   \n",
      "2                       0               8                       0     34   \n",
      "3                      55              25                       0    149   \n",
      "4                       0              12                       0     23   \n",
      "\n",
      "       Date  \n",
      "0  9/1/2023  \n",
      "1  9/1/2023  \n",
      "2  9/1/2023  \n",
      "3  9/1/2023  \n",
      "4  9/1/2023  \n"
     ]
    }
   ],
   "source": [
    "# Read CSV file into a pandas DataFrame (assuming df2 is already loaded)\n",
    "df2 = pd.read_csv(csv_file2)\n",
    "\n",
    "# Drop unnamed columns\n",
    "df2 = df2.loc[:, ~df2.columns.str.contains('^Unnamed')]\n",
    "\n",
    "# Drop rows with null values\n",
    "df2 = df2.dropna()\n",
    "\n",
    "# Display the first few rows of the DataFrame after dropping\n",
    "print(\"DataFrame 2 after dropping unnamed columns and rows with null values:\")\n",
    "print(df2.head())\n"
   ]
  },
  {
   "cell_type": "code",
   "execution_count": 202,
   "id": "9c3574c1",
   "metadata": {},
   "outputs": [
    {
     "name": "stdout",
     "output_type": "stream",
     "text": [
      "DataFrame 1 after dropping unnamed columns and rows with null values:\n",
      "   Year  Gasoline All Grades  Diesel\n",
      "0  2023                4.879   5.357\n",
      "1  2022                5.406   6.028\n",
      "2  2021                4.100   4.164\n",
      "3  2020                3.132   3.377\n",
      "4  2019                3.677   3.920\n"
     ]
    }
   ],
   "source": [
    "df1 = pd.read_csv(csv_file1)\n",
    "\n",
    "\n",
    "df1 = df1.loc[:, ~df1.columns.str.contains('^Unnamed')]\n",
    "\n",
    "# Drop rows with null values\n",
    "df1 = df1.dropna()\n",
    "\n",
    "\n",
    "print(\"DataFrame 1 after dropping unnamed columns and rows with null values:\")\n",
    "print(df1.head())\n"
   ]
  },
  {
   "cell_type": "code",
   "execution_count": 203,
   "id": "da780d6f-b4ca-4f8a-92d1-07f845e96a88",
   "metadata": {},
   "outputs": [
    {
     "name": "stdout",
     "output_type": "stream",
     "text": [
      "DataFrame 1:\n",
      "   Year  Gasoline All Grades  Diesel\n",
      "0  2023                4.879   5.357\n",
      "1  2022                5.406   6.028\n",
      "2  2021                4.100   4.164\n",
      "3  2020                3.132   3.377\n",
      "4  2019                3.677   3.920\n",
      "\n",
      "DataFrame 2:\n",
      "      County  Public Level 1  Shared Private Level 1  Public Level 2  \\\n",
      "0    Alameda               4                      72            1625   \n",
      "1     Alpine               0                       0              10   \n",
      "2     Amador               0                       0              26   \n",
      "3      Butte               6                       0              63   \n",
      "4  Calaveras               0                       2               9   \n",
      "\n",
      "   Shared Private Level 2  Public DC Fast  Shared Private DC Fast  Total  \\\n",
      "0                    2488             398                      37   4624   \n",
      "1                       0               0                       0     10   \n",
      "2                       0               8                       0     34   \n",
      "3                      55              25                       0    149   \n",
      "4                       0              12                       0     23   \n",
      "\n",
      "       Date  \n",
      "0  9/1/2023  \n",
      "1  9/1/2023  \n",
      "2  9/1/2023  \n",
      "3  9/1/2023  \n",
      "4  9/1/2023  \n",
      "DataFrame 3:\n",
      "   Year  Zip Code Model Year                      Fuel       Make   Duty  \\\n",
      "0  2019     90000      <2006  Diesel and Diesel Hybrid      WHITE  Heavy   \n",
      "1  2019     90000      <2006                  Gasoline  CHEVROLET  Light   \n",
      "2  2019     90000      <2006                  Gasoline      DODGE  Light   \n",
      "3  2019     90000      <2006                  Gasoline       FORD  Light   \n",
      "4  2019     90000      <2006                  Gasoline        GMC  Light   \n",
      "\n",
      "   Vehicles  \n",
      "0        19  \n",
      "1        33  \n",
      "2        11  \n",
      "3        28  \n",
      "4        19  \n"
     ]
    }
   ],
   "source": [
    "print(\"DataFrame 1:\")\n",
    "print(df1.head())\n",
    "\n",
    "print(\"\\nDataFrame 2:\")\n",
    "print(df2.head())\n",
    "\n",
    "print(\"DataFrame 3:\")\n",
    "print(df3.head())"
   ]
  },
  {
   "cell_type": "code",
   "execution_count": 204,
   "id": "be44b064",
   "metadata": {},
   "outputs": [
    {
     "name": "stdout",
     "output_type": "stream",
     "text": [
      "DataFrame 1:\n",
      "   Year  Gasoline All Grades  Diesel\n",
      "0  2023                4.879   5.357\n",
      "1  2022                5.406   6.028\n",
      "2  2021                4.100   4.164\n",
      "3  2020                3.132   3.377\n",
      "4  2019                3.677   3.920\n",
      "\n",
      "DataFrame 2:\n",
      "      County  Public Level 1  Shared Private Level 1  Public Level 2  \\\n",
      "0    Alameda               4                      72            1625   \n",
      "1     Alpine               0                       0              10   \n",
      "2     Amador               0                       0              26   \n",
      "3      Butte               6                       0              63   \n",
      "4  Calaveras               0                       2               9   \n",
      "\n",
      "   Shared Private Level 2  Public DC Fast  Shared Private DC Fast  Total  \\\n",
      "0                    2488             398                      37   4624   \n",
      "1                       0               0                       0     10   \n",
      "2                       0               8                       0     34   \n",
      "3                      55              25                       0    149   \n",
      "4                       0              12                       0     23   \n",
      "\n",
      "       Date  \n",
      "0  9/1/2023  \n",
      "1  9/1/2023  \n",
      "2  9/1/2023  \n",
      "3  9/1/2023  \n",
      "4  9/1/2023  \n",
      "DataFrame 3:\n",
      "   Year  Zip Code Model Year                      Fuel       Make   Duty  \\\n",
      "0  2019     90000      <2006  Diesel and Diesel Hybrid      WHITE  Heavy   \n",
      "1  2019     90000      <2006                  Gasoline  CHEVROLET  Light   \n",
      "2  2019     90000      <2006                  Gasoline      DODGE  Light   \n",
      "3  2019     90000      <2006                  Gasoline       FORD  Light   \n",
      "4  2019     90000      <2006                  Gasoline        GMC  Light   \n",
      "\n",
      "   Vehicles  \n",
      "0        19  \n",
      "1        33  \n",
      "2        11  \n",
      "3        28  \n",
      "4        19  \n",
      "Database stored in 'my_database.db' successfully.\n"
     ]
    }
   ],
   "source": [
    "# Print the DataFrames\n",
    "print(\"DataFrame 1:\")\n",
    "print(df1.head())\n",
    "\n",
    "print(\"\\nDataFrame 2:\")\n",
    "print(df2.head())\n",
    "\n",
    "print(\"DataFrame 3:\")\n",
    "print(df3.head())\n",
    "\n",
    "\n",
    "conn = sqlite3.connect(':memory:')\n",
    "\n",
    "\n",
    "df1.to_sql('table1', conn, if_exists='replace', index=False)\n",
    "df2.to_sql('table2', conn, if_exists='replace', index=False)\n",
    "df3.to_sql('table3', conn, if_exists='replace', index=False)\n",
    "\n",
    "# Save the database to a file\n",
    "with sqlite3.connect('my_database.db') as file_conn:\n",
    "    conn.backup(file_conn)\n",
    "\n",
    "print(\"Database stored in 'my_database.db' successfully.\")\n"
   ]
  },
  {
   "cell_type": "code",
   "execution_count": 205,
   "id": "62e8699d",
   "metadata": {},
   "outputs": [
    {
     "name": "stdout",
     "output_type": "stream",
     "text": [
      "\n",
      "Result of SQL query:\n",
      "   Year  Gasoline All Grades  Diesel\n",
      "0  2023                4.879   5.357\n",
      "1  2022                5.406   6.028\n",
      "2  2021                4.100   4.164\n",
      "3  2020                3.132   3.377\n",
      "4  2019                3.677   3.920\n"
     ]
    }
   ],
   "source": [
    "conn = sqlite3.connect('my_database.db')\n",
    "\n",
    "\n",
    "query = \"SELECT * FROM table1;\"\n",
    "\n",
    "\n",
    "result_df = pd.read_sql_query(query, conn)\n",
    "\n",
    "print(\"\\nResult of SQL query:\")\n",
    "print(result_df.head())\n",
    "\n",
    "\n",
    "conn.close()\n",
    "\n",
    "\n"
   ]
  },
  {
   "cell_type": "code",
   "execution_count": 206,
   "id": "4d48c577",
   "metadata": {},
   "outputs": [
    {
     "name": "stdout",
     "output_type": "stream",
     "text": [
      "\n",
      "Result of SQL query:\n",
      "      County  Public Level 1  Shared Private Level 1  Public Level 2  \\\n",
      "0    Alameda               4                      72            1625   \n",
      "1     Alpine               0                       0              10   \n",
      "2     Amador               0                       0              26   \n",
      "3      Butte               6                       0              63   \n",
      "4  Calaveras               0                       2               9   \n",
      "\n",
      "   Shared Private Level 2  Public DC Fast  Shared Private DC Fast  Total  \\\n",
      "0                    2488             398                      37   4624   \n",
      "1                       0               0                       0     10   \n",
      "2                       0               8                       0     34   \n",
      "3                      55              25                       0    149   \n",
      "4                       0              12                       0     23   \n",
      "\n",
      "       Date  \n",
      "0  9/1/2023  \n",
      "1  9/1/2023  \n",
      "2  9/1/2023  \n",
      "3  9/1/2023  \n",
      "4  9/1/2023  \n"
     ]
    }
   ],
   "source": [
    "conn = sqlite3.connect('my_database.db')\n",
    "\n",
    "\n",
    "query = \"SELECT * FROM table2;\"\n",
    "\n",
    "\n",
    "result_df = pd.read_sql_query(query, conn)\n",
    "\n",
    "print(\"\\nResult of SQL query:\")\n",
    "print(result_df.head())\n",
    "\n",
    "\n",
    "conn.close()\n",
    "\n"
   ]
  },
  {
   "cell_type": "code",
   "execution_count": 9,
   "id": "c4e19a17",
   "metadata": {},
   "outputs": [
    {
     "name": "stdout",
     "output_type": "stream",
     "text": [
      "\n",
      "Result of SQL query:\n",
      "   Year  Zip Code Model Year                      Fuel       Make   Duty  \\\n",
      "0  2019     90000      <2006  Diesel and Diesel Hybrid      WHITE  Heavy   \n",
      "1  2019     90000      <2006                  Gasoline  CHEVROLET  Light   \n",
      "2  2019     90000      <2006                  Gasoline      DODGE  Light   \n",
      "3  2019     90000      <2006                  Gasoline       FORD  Light   \n",
      "4  2019     90000      <2006                  Gasoline        GMC  Light   \n",
      "\n",
      "   Vehicles  \n",
      "0        19  \n",
      "1        33  \n",
      "2        11  \n",
      "3        28  \n",
      "4        19  \n"
     ]
    }
   ],
   "source": [
    "conn = sqlite3.connect('my_database.db')\n",
    "\n",
    "\n",
    "query = \"SELECT * FROM table3;\"\n",
    "\n",
    "\n",
    "result_df = pd.read_sql_query(query, conn)\n",
    "\n",
    "print(\"\\nResult of SQL query:\")\n",
    "print(result_df.head())\n",
    "\n",
    "\n",
    "conn.close()\n",
    "\n"
   ]
  },
  {
   "cell_type": "code",
   "execution_count": null,
   "id": "91e75924",
   "metadata": {},
   "outputs": [],
   "source": []
  }
 ],
 "metadata": {
  "kernelspec": {
   "display_name": "Python 3 (ipykernel)",
   "language": "python",
   "name": "python3"
  },
  "language_info": {
   "codemirror_mode": {
    "name": "ipython",
    "version": 3
   },
   "file_extension": ".py",
   "mimetype": "text/x-python",
   "name": "python",
   "nbconvert_exporter": "python",
   "pygments_lexer": "ipython3",
   "version": "3.10.13"
  }
 },
 "nbformat": 4,
 "nbformat_minor": 5
}
